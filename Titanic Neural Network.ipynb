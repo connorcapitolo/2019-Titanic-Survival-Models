{
 "cells": [
  {
   "cell_type": "code",
   "execution_count": 1,
   "metadata": {},
   "outputs": [
    {
     "data": {
      "text/html": [
       "<div>\n",
       "<style scoped>\n",
       "    .dataframe tbody tr th:only-of-type {\n",
       "        vertical-align: middle;\n",
       "    }\n",
       "\n",
       "    .dataframe tbody tr th {\n",
       "        vertical-align: top;\n",
       "    }\n",
       "\n",
       "    .dataframe thead th {\n",
       "        text-align: right;\n",
       "    }\n",
       "</style>\n",
       "<table border=\"1\" class=\"dataframe\">\n",
       "  <thead>\n",
       "    <tr style=\"text-align: right;\">\n",
       "      <th></th>\n",
       "      <th>PassengerId</th>\n",
       "      <th>Survived</th>\n",
       "      <th>Pclass</th>\n",
       "      <th>Name</th>\n",
       "      <th>Sex</th>\n",
       "      <th>Age</th>\n",
       "      <th>SibSp</th>\n",
       "      <th>Parch</th>\n",
       "      <th>Ticket</th>\n",
       "      <th>Fare</th>\n",
       "      <th>Cabin</th>\n",
       "      <th>Embarked</th>\n",
       "    </tr>\n",
       "  </thead>\n",
       "  <tbody>\n",
       "    <tr>\n",
       "      <th>0</th>\n",
       "      <td>1</td>\n",
       "      <td>0</td>\n",
       "      <td>3</td>\n",
       "      <td>Braund, Mr. Owen Harris</td>\n",
       "      <td>male</td>\n",
       "      <td>22.0</td>\n",
       "      <td>1</td>\n",
       "      <td>0</td>\n",
       "      <td>A/5 21171</td>\n",
       "      <td>7.2500</td>\n",
       "      <td>NaN</td>\n",
       "      <td>S</td>\n",
       "    </tr>\n",
       "    <tr>\n",
       "      <th>1</th>\n",
       "      <td>2</td>\n",
       "      <td>1</td>\n",
       "      <td>1</td>\n",
       "      <td>Cumings, Mrs. John Bradley (Florence Briggs Th...</td>\n",
       "      <td>female</td>\n",
       "      <td>38.0</td>\n",
       "      <td>1</td>\n",
       "      <td>0</td>\n",
       "      <td>PC 17599</td>\n",
       "      <td>71.2833</td>\n",
       "      <td>C85</td>\n",
       "      <td>C</td>\n",
       "    </tr>\n",
       "    <tr>\n",
       "      <th>2</th>\n",
       "      <td>3</td>\n",
       "      <td>1</td>\n",
       "      <td>3</td>\n",
       "      <td>Heikkinen, Miss. Laina</td>\n",
       "      <td>female</td>\n",
       "      <td>26.0</td>\n",
       "      <td>0</td>\n",
       "      <td>0</td>\n",
       "      <td>STON/O2. 3101282</td>\n",
       "      <td>7.9250</td>\n",
       "      <td>NaN</td>\n",
       "      <td>S</td>\n",
       "    </tr>\n",
       "    <tr>\n",
       "      <th>3</th>\n",
       "      <td>4</td>\n",
       "      <td>1</td>\n",
       "      <td>1</td>\n",
       "      <td>Futrelle, Mrs. Jacques Heath (Lily May Peel)</td>\n",
       "      <td>female</td>\n",
       "      <td>35.0</td>\n",
       "      <td>1</td>\n",
       "      <td>0</td>\n",
       "      <td>113803</td>\n",
       "      <td>53.1000</td>\n",
       "      <td>C123</td>\n",
       "      <td>S</td>\n",
       "    </tr>\n",
       "    <tr>\n",
       "      <th>4</th>\n",
       "      <td>5</td>\n",
       "      <td>0</td>\n",
       "      <td>3</td>\n",
       "      <td>Allen, Mr. William Henry</td>\n",
       "      <td>male</td>\n",
       "      <td>35.0</td>\n",
       "      <td>0</td>\n",
       "      <td>0</td>\n",
       "      <td>373450</td>\n",
       "      <td>8.0500</td>\n",
       "      <td>NaN</td>\n",
       "      <td>S</td>\n",
       "    </tr>\n",
       "    <tr>\n",
       "      <th>5</th>\n",
       "      <td>6</td>\n",
       "      <td>0</td>\n",
       "      <td>3</td>\n",
       "      <td>Moran, Mr. James</td>\n",
       "      <td>male</td>\n",
       "      <td>NaN</td>\n",
       "      <td>0</td>\n",
       "      <td>0</td>\n",
       "      <td>330877</td>\n",
       "      <td>8.4583</td>\n",
       "      <td>NaN</td>\n",
       "      <td>Q</td>\n",
       "    </tr>\n",
       "    <tr>\n",
       "      <th>6</th>\n",
       "      <td>7</td>\n",
       "      <td>0</td>\n",
       "      <td>1</td>\n",
       "      <td>McCarthy, Mr. Timothy J</td>\n",
       "      <td>male</td>\n",
       "      <td>54.0</td>\n",
       "      <td>0</td>\n",
       "      <td>0</td>\n",
       "      <td>17463</td>\n",
       "      <td>51.8625</td>\n",
       "      <td>E46</td>\n",
       "      <td>S</td>\n",
       "    </tr>\n",
       "    <tr>\n",
       "      <th>7</th>\n",
       "      <td>8</td>\n",
       "      <td>0</td>\n",
       "      <td>3</td>\n",
       "      <td>Palsson, Master. Gosta Leonard</td>\n",
       "      <td>male</td>\n",
       "      <td>2.0</td>\n",
       "      <td>3</td>\n",
       "      <td>1</td>\n",
       "      <td>349909</td>\n",
       "      <td>21.0750</td>\n",
       "      <td>NaN</td>\n",
       "      <td>S</td>\n",
       "    </tr>\n",
       "    <tr>\n",
       "      <th>8</th>\n",
       "      <td>9</td>\n",
       "      <td>1</td>\n",
       "      <td>3</td>\n",
       "      <td>Johnson, Mrs. Oscar W (Elisabeth Vilhelmina Berg)</td>\n",
       "      <td>female</td>\n",
       "      <td>27.0</td>\n",
       "      <td>0</td>\n",
       "      <td>2</td>\n",
       "      <td>347742</td>\n",
       "      <td>11.1333</td>\n",
       "      <td>NaN</td>\n",
       "      <td>S</td>\n",
       "    </tr>\n",
       "    <tr>\n",
       "      <th>9</th>\n",
       "      <td>10</td>\n",
       "      <td>1</td>\n",
       "      <td>2</td>\n",
       "      <td>Nasser, Mrs. Nicholas (Adele Achem)</td>\n",
       "      <td>female</td>\n",
       "      <td>14.0</td>\n",
       "      <td>1</td>\n",
       "      <td>0</td>\n",
       "      <td>237736</td>\n",
       "      <td>30.0708</td>\n",
       "      <td>NaN</td>\n",
       "      <td>C</td>\n",
       "    </tr>\n",
       "  </tbody>\n",
       "</table>\n",
       "</div>"
      ],
      "text/plain": [
       "   PassengerId  Survived  Pclass  \\\n",
       "0            1         0       3   \n",
       "1            2         1       1   \n",
       "2            3         1       3   \n",
       "3            4         1       1   \n",
       "4            5         0       3   \n",
       "5            6         0       3   \n",
       "6            7         0       1   \n",
       "7            8         0       3   \n",
       "8            9         1       3   \n",
       "9           10         1       2   \n",
       "\n",
       "                                                Name     Sex   Age  SibSp  \\\n",
       "0                            Braund, Mr. Owen Harris    male  22.0      1   \n",
       "1  Cumings, Mrs. John Bradley (Florence Briggs Th...  female  38.0      1   \n",
       "2                             Heikkinen, Miss. Laina  female  26.0      0   \n",
       "3       Futrelle, Mrs. Jacques Heath (Lily May Peel)  female  35.0      1   \n",
       "4                           Allen, Mr. William Henry    male  35.0      0   \n",
       "5                                   Moran, Mr. James    male   NaN      0   \n",
       "6                            McCarthy, Mr. Timothy J    male  54.0      0   \n",
       "7                     Palsson, Master. Gosta Leonard    male   2.0      3   \n",
       "8  Johnson, Mrs. Oscar W (Elisabeth Vilhelmina Berg)  female  27.0      0   \n",
       "9                Nasser, Mrs. Nicholas (Adele Achem)  female  14.0      1   \n",
       "\n",
       "   Parch            Ticket     Fare Cabin Embarked  \n",
       "0      0         A/5 21171   7.2500   NaN        S  \n",
       "1      0          PC 17599  71.2833   C85        C  \n",
       "2      0  STON/O2. 3101282   7.9250   NaN        S  \n",
       "3      0            113803  53.1000  C123        S  \n",
       "4      0            373450   8.0500   NaN        S  \n",
       "5      0            330877   8.4583   NaN        Q  \n",
       "6      0             17463  51.8625   E46        S  \n",
       "7      1            349909  21.0750   NaN        S  \n",
       "8      2            347742  11.1333   NaN        S  \n",
       "9      0            237736  30.0708   NaN        C  "
      ]
     },
     "execution_count": 1,
     "metadata": {},
     "output_type": "execute_result"
    }
   ],
   "source": [
    "import pandas as pd\n",
    "import numpy as np\n",
    "import matplotlib.pyplot as plt\n",
    "import seaborn as sns\n",
    "\n",
    "#read in the training data and look at the first 10 rows\n",
    "originalTrain = pd.read_csv('train.csv')\n",
    "originalTrain.head(10)"
   ]
  },
  {
   "cell_type": "code",
   "execution_count": 2,
   "metadata": {},
   "outputs": [],
   "source": [
    "#suppress warnings for presentation purposes\n",
    "import warnings\n",
    "warnings.filterwarnings(\"ignore\")"
   ]
  },
  {
   "cell_type": "code",
   "execution_count": 3,
   "metadata": {},
   "outputs": [
    {
     "name": "stdout",
     "output_type": "stream",
     "text": [
      "<class 'pandas.core.frame.DataFrame'>\n",
      "RangeIndex: 891 entries, 0 to 890\n",
      "Data columns (total 12 columns):\n",
      "PassengerId    891 non-null int64\n",
      "Survived       891 non-null int64\n",
      "Pclass         891 non-null int64\n",
      "Name           891 non-null object\n",
      "Sex            891 non-null object\n",
      "Age            714 non-null float64\n",
      "SibSp          891 non-null int64\n",
      "Parch          891 non-null int64\n",
      "Ticket         891 non-null object\n",
      "Fare           891 non-null float64\n",
      "Cabin          204 non-null object\n",
      "Embarked       889 non-null object\n",
      "dtypes: float64(2), int64(5), object(5)\n",
      "memory usage: 83.6+ KB\n"
     ]
    }
   ],
   "source": [
    "#looking at the number of feature's non-null values and type\n",
    "originalTrain.info()"
   ]
  },
  {
   "cell_type": "code",
   "execution_count": 4,
   "metadata": {
    "scrolled": true
   },
   "outputs": [
    {
     "data": {
      "text/plain": [
       "PassengerId      0\n",
       "Survived         0\n",
       "Pclass           0\n",
       "Name             0\n",
       "Sex              0\n",
       "Age            177\n",
       "SibSp            0\n",
       "Parch            0\n",
       "Ticket           0\n",
       "Fare             0\n",
       "Cabin          687\n",
       "Embarked         2\n",
       "dtype: int64"
      ]
     },
     "execution_count": 4,
     "metadata": {},
     "output_type": "execute_result"
    }
   ],
   "source": [
    "#seeing the total null values for each feature\n",
    "originalTrain.isnull().sum()"
   ]
  },
  {
   "cell_type": "code",
   "execution_count": 5,
   "metadata": {},
   "outputs": [
    {
     "data": {
      "text/plain": [
       "PassengerId    891\n",
       "Survived         2\n",
       "Pclass           3\n",
       "Name           891\n",
       "Sex              2\n",
       "Age             88\n",
       "SibSp            7\n",
       "Parch            7\n",
       "Ticket         681\n",
       "Fare           248\n",
       "Cabin          147\n",
       "Embarked         3\n",
       "dtype: int64"
      ]
     },
     "execution_count": 5,
     "metadata": {},
     "output_type": "execute_result"
    }
   ],
   "source": [
    "#checking the number of unique values for each feature\n",
    "originalTrain.nunique()"
   ]
  },
  {
   "cell_type": "code",
   "execution_count": 6,
   "metadata": {},
   "outputs": [
    {
     "data": {
      "text/plain": [
       "array(['S', 'C', 'Q', nan], dtype=object)"
      ]
     },
     "execution_count": 6,
     "metadata": {},
     "output_type": "execute_result"
    }
   ],
   "source": [
    "#checking the unique feature values for Embarked\n",
    "originalTrain['Embarked'].unique()"
   ]
  },
  {
   "cell_type": "code",
   "execution_count": 7,
   "metadata": {},
   "outputs": [
    {
     "data": {
      "text/html": [
       "<div>\n",
       "<style scoped>\n",
       "    .dataframe tbody tr th:only-of-type {\n",
       "        vertical-align: middle;\n",
       "    }\n",
       "\n",
       "    .dataframe tbody tr th {\n",
       "        vertical-align: top;\n",
       "    }\n",
       "\n",
       "    .dataframe thead th {\n",
       "        text-align: right;\n",
       "    }\n",
       "</style>\n",
       "<table border=\"1\" class=\"dataframe\">\n",
       "  <thead>\n",
       "    <tr style=\"text-align: right;\">\n",
       "      <th></th>\n",
       "      <th>PassengerId</th>\n",
       "      <th>Survived</th>\n",
       "      <th>Pclass</th>\n",
       "      <th>Name</th>\n",
       "      <th>Sex</th>\n",
       "      <th>Age</th>\n",
       "      <th>SibSp</th>\n",
       "      <th>Parch</th>\n",
       "      <th>Ticket</th>\n",
       "      <th>Fare</th>\n",
       "      <th>Cabin</th>\n",
       "      <th>Embarked</th>\n",
       "    </tr>\n",
       "  </thead>\n",
       "  <tbody>\n",
       "    <tr>\n",
       "      <th>61</th>\n",
       "      <td>62</td>\n",
       "      <td>1</td>\n",
       "      <td>1</td>\n",
       "      <td>Icard, Miss. Amelie</td>\n",
       "      <td>female</td>\n",
       "      <td>38.0</td>\n",
       "      <td>0</td>\n",
       "      <td>0</td>\n",
       "      <td>113572</td>\n",
       "      <td>80.0</td>\n",
       "      <td>B28</td>\n",
       "      <td>NaN</td>\n",
       "    </tr>\n",
       "    <tr>\n",
       "      <th>829</th>\n",
       "      <td>830</td>\n",
       "      <td>1</td>\n",
       "      <td>1</td>\n",
       "      <td>Stone, Mrs. George Nelson (Martha Evelyn)</td>\n",
       "      <td>female</td>\n",
       "      <td>62.0</td>\n",
       "      <td>0</td>\n",
       "      <td>0</td>\n",
       "      <td>113572</td>\n",
       "      <td>80.0</td>\n",
       "      <td>B28</td>\n",
       "      <td>NaN</td>\n",
       "    </tr>\n",
       "  </tbody>\n",
       "</table>\n",
       "</div>"
      ],
      "text/plain": [
       "     PassengerId  Survived  Pclass                                       Name  \\\n",
       "61            62         1       1                        Icard, Miss. Amelie   \n",
       "829          830         1       1  Stone, Mrs. George Nelson (Martha Evelyn)   \n",
       "\n",
       "        Sex   Age  SibSp  Parch  Ticket  Fare Cabin Embarked  \n",
       "61   female  38.0      0      0  113572  80.0   B28      NaN  \n",
       "829  female  62.0      0      0  113572  80.0   B28      NaN  "
      ]
     },
     "execution_count": 7,
     "metadata": {},
     "output_type": "execute_result"
    }
   ],
   "source": [
    "#check the rows where Embarked is unknown\n",
    "originalTrain.loc[originalTrain['Embarked'].isnull()]"
   ]
  },
  {
   "cell_type": "code",
   "execution_count": 8,
   "metadata": {},
   "outputs": [
    {
     "data": {
      "text/plain": [
       "<seaborn.axisgrid.FacetGrid at 0x10ea52780>"
      ]
     },
     "execution_count": 8,
     "metadata": {},
     "output_type": "execute_result"
    },
    {
     "data": {
      "image/png": "[encoded data removed]",
      "text/plain": [
       "<Figure size 1150.5x360 with 3 Axes>"
      ]
     },
     "metadata": {
      "needs_background": "light"
     },
     "output_type": "display_data"
    }
   ],
   "source": [
    "#Likelihood of survival for the different travel classes based on embarked location and sex\n",
    "sns.factorplot(x = 'Embarked', y = 'Survived', data = originalTrain, kind = 'bar', hue = 'Sex', col = 'Pclass')"
   ]
  },
  {
   "cell_type": "code",
   "execution_count": 9,
   "metadata": {},
   "outputs": [
    {
     "data": {
      "text/plain": [
       "array(['S', 'C', 'Q'], dtype=object)"
      ]
     },
     "execution_count": 9,
     "metadata": {},
     "output_type": "execute_result"
    }
   ],
   "source": [
    "#for now, classifying the two unknown Embarked values as Q based on the above graph\n",
    "originalTrain.at[61, 'Embarked'] =  'Q'\n",
    "originalTrain.at[829, 'Embarked'] = 'Q'\n",
    "originalTrain['Embarked'].unique()"
   ]
  },
  {
   "cell_type": "code",
   "execution_count": 10,
   "metadata": {},
   "outputs": [
    {
     "data": {
      "text/plain": [
       "array([nan, 'C', 'E', 'G', 'D', 'A', 'B', 'F', 'T'], dtype=object)"
      ]
     },
     "execution_count": 10,
     "metadata": {},
     "output_type": "execute_result"
    }
   ],
   "source": [
    "#producing a feature with solely the cabin letters\n",
    "originalTrain['Cabin Letter'] = [x[0] if type(x)== str else float('nan') for x in originalTrain['Cabin']]\n",
    "originalTrain['Cabin Letter'].unique()"
   ]
  },
  {
   "cell_type": "code",
   "execution_count": 11,
   "metadata": {},
   "outputs": [
    {
     "data": {
      "text/plain": [
       "<matplotlib.axes._subplots.AxesSubplot at 0x1a212472e8>"
      ]
     },
     "execution_count": 11,
     "metadata": {},
     "output_type": "execute_result"
    },
    {
     "data": {
      "image/png": "[encoded data removed]",
      "text/plain": [
       "<Figure size 432x288 with 1 Axes>"
      ]
     },
     "metadata": {
      "needs_background": "light"
     },
     "output_type": "display_data"
    }
   ],
   "source": [
    "#probability of survival based on Cabin Letter\n",
    "sns.barplot(x='Cabin Letter',y='Survived',data=originalTrain)"
   ]
  },
  {
   "cell_type": "code",
   "execution_count": 12,
   "metadata": {},
   "outputs": [],
   "source": [
    "#drop features that have too many missing values or don't seem relevant for prediction\n",
    "manipTrain = originalTrain.drop(['Cabin Letter','Cabin','PassengerId','Ticket'], axis = 1)"
   ]
  },
  {
   "cell_type": "code",
   "execution_count": 13,
   "metadata": {},
   "outputs": [],
   "source": [
    "#change Sex into binary classifier with male as 1 and female as 0\n",
    "from sklearn.preprocessing import LabelBinarizer\n",
    "encoder = LabelBinarizer()\n",
    "sex1hot = encoder.fit_transform(manipTrain['Sex'])"
   ]
  },
  {
   "cell_type": "code",
   "execution_count": 14,
   "metadata": {},
   "outputs": [
    {
     "data": {
      "text/html": [
       "<div>\n",
       "<style scoped>\n",
       "    .dataframe tbody tr th:only-of-type {\n",
       "        vertical-align: middle;\n",
       "    }\n",
       "\n",
       "    .dataframe tbody tr th {\n",
       "        vertical-align: top;\n",
       "    }\n",
       "\n",
       "    .dataframe thead th {\n",
       "        text-align: right;\n",
       "    }\n",
       "</style>\n",
       "<table border=\"1\" class=\"dataframe\">\n",
       "  <thead>\n",
       "    <tr style=\"text-align: right;\">\n",
       "      <th></th>\n",
       "      <th>Survived</th>\n",
       "      <th>Pclass</th>\n",
       "      <th>Name</th>\n",
       "      <th>Sex</th>\n",
       "      <th>Age</th>\n",
       "      <th>SibSp</th>\n",
       "      <th>Parch</th>\n",
       "      <th>Fare</th>\n",
       "      <th>Embarked</th>\n",
       "      <th>Binary Sex</th>\n",
       "    </tr>\n",
       "  </thead>\n",
       "  <tbody>\n",
       "    <tr>\n",
       "      <th>0</th>\n",
       "      <td>0</td>\n",
       "      <td>3</td>\n",
       "      <td>Braund, Mr. Owen Harris</td>\n",
       "      <td>male</td>\n",
       "      <td>22.0</td>\n",
       "      <td>1</td>\n",
       "      <td>0</td>\n",
       "      <td>7.2500</td>\n",
       "      <td>S</td>\n",
       "      <td>1</td>\n",
       "    </tr>\n",
       "    <tr>\n",
       "      <th>1</th>\n",
       "      <td>1</td>\n",
       "      <td>1</td>\n",
       "      <td>Cumings, Mrs. John Bradley (Florence Briggs Th...</td>\n",
       "      <td>female</td>\n",
       "      <td>38.0</td>\n",
       "      <td>1</td>\n",
       "      <td>0</td>\n",
       "      <td>71.2833</td>\n",
       "      <td>C</td>\n",
       "      <td>0</td>\n",
       "    </tr>\n",
       "    <tr>\n",
       "      <th>2</th>\n",
       "      <td>1</td>\n",
       "      <td>3</td>\n",
       "      <td>Heikkinen, Miss. Laina</td>\n",
       "      <td>female</td>\n",
       "      <td>26.0</td>\n",
       "      <td>0</td>\n",
       "      <td>0</td>\n",
       "      <td>7.9250</td>\n",
       "      <td>S</td>\n",
       "      <td>0</td>\n",
       "    </tr>\n",
       "    <tr>\n",
       "      <th>3</th>\n",
       "      <td>1</td>\n",
       "      <td>1</td>\n",
       "      <td>Futrelle, Mrs. Jacques Heath (Lily May Peel)</td>\n",
       "      <td>female</td>\n",
       "      <td>35.0</td>\n",
       "      <td>1</td>\n",
       "      <td>0</td>\n",
       "      <td>53.1000</td>\n",
       "      <td>S</td>\n",
       "      <td>0</td>\n",
       "    </tr>\n",
       "    <tr>\n",
       "      <th>4</th>\n",
       "      <td>0</td>\n",
       "      <td>3</td>\n",
       "      <td>Allen, Mr. William Henry</td>\n",
       "      <td>male</td>\n",
       "      <td>35.0</td>\n",
       "      <td>0</td>\n",
       "      <td>0</td>\n",
       "      <td>8.0500</td>\n",
       "      <td>S</td>\n",
       "      <td>1</td>\n",
       "    </tr>\n",
       "  </tbody>\n",
       "</table>\n",
       "</div>"
      ],
      "text/plain": [
       "   Survived  Pclass                                               Name  \\\n",
       "0         0       3                            Braund, Mr. Owen Harris   \n",
       "1         1       1  Cumings, Mrs. John Bradley (Florence Briggs Th...   \n",
       "2         1       3                             Heikkinen, Miss. Laina   \n",
       "3         1       1       Futrelle, Mrs. Jacques Heath (Lily May Peel)   \n",
       "4         0       3                           Allen, Mr. William Henry   \n",
       "\n",
       "      Sex   Age  SibSp  Parch     Fare Embarked  Binary Sex  \n",
       "0    male  22.0      1      0   7.2500        S           1  \n",
       "1  female  38.0      1      0  71.2833        C           0  \n",
       "2  female  26.0      0      0   7.9250        S           0  \n",
       "3  female  35.0      1      0  53.1000        S           0  \n",
       "4    male  35.0      0      0   8.0500        S           1  "
      ]
     },
     "execution_count": 14,
     "metadata": {},
     "output_type": "execute_result"
    }
   ],
   "source": [
    "#add the array with binary classification of male and female to the training set\n",
    "manipTrain['Binary Sex'] = sex1hot\n",
    "#confirm that binary classification of sex was performed correctly\n",
    "manipTrain.head()"
   ]
  },
  {
   "cell_type": "code",
   "execution_count": 15,
   "metadata": {},
   "outputs": [],
   "source": [
    "#dropping the original Sex feature\n",
    "manipTrain.drop('Sex',axis = 1, inplace = True)"
   ]
  },
  {
   "cell_type": "code",
   "execution_count": 16,
   "metadata": {},
   "outputs": [
    {
     "data": {
      "text/html": [
       "<div>\n",
       "<style scoped>\n",
       "    .dataframe tbody tr th:only-of-type {\n",
       "        vertical-align: middle;\n",
       "    }\n",
       "\n",
       "    .dataframe tbody tr th {\n",
       "        vertical-align: top;\n",
       "    }\n",
       "\n",
       "    .dataframe thead th {\n",
       "        text-align: right;\n",
       "    }\n",
       "</style>\n",
       "<table border=\"1\" class=\"dataframe\">\n",
       "  <thead>\n",
       "    <tr style=\"text-align: right;\">\n",
       "      <th></th>\n",
       "      <th>Survived</th>\n",
       "      <th>Pclass</th>\n",
       "      <th>Name</th>\n",
       "      <th>Age</th>\n",
       "      <th>SibSp</th>\n",
       "      <th>Parch</th>\n",
       "      <th>Fare</th>\n",
       "      <th>Embarked</th>\n",
       "      <th>Binary Sex</th>\n",
       "      <th>Title</th>\n",
       "    </tr>\n",
       "  </thead>\n",
       "  <tbody>\n",
       "    <tr>\n",
       "      <th>0</th>\n",
       "      <td>0</td>\n",
       "      <td>3</td>\n",
       "      <td>Braund, Mr. Owen Harris</td>\n",
       "      <td>22.0</td>\n",
       "      <td>1</td>\n",
       "      <td>0</td>\n",
       "      <td>7.2500</td>\n",
       "      <td>S</td>\n",
       "      <td>1</td>\n",
       "      <td>Mr</td>\n",
       "    </tr>\n",
       "    <tr>\n",
       "      <th>1</th>\n",
       "      <td>1</td>\n",
       "      <td>1</td>\n",
       "      <td>Cumings, Mrs. John Bradley (Florence Briggs Th...</td>\n",
       "      <td>38.0</td>\n",
       "      <td>1</td>\n",
       "      <td>0</td>\n",
       "      <td>71.2833</td>\n",
       "      <td>C</td>\n",
       "      <td>0</td>\n",
       "      <td>Mrs</td>\n",
       "    </tr>\n",
       "    <tr>\n",
       "      <th>2</th>\n",
       "      <td>1</td>\n",
       "      <td>3</td>\n",
       "      <td>Heikkinen, Miss. Laina</td>\n",
       "      <td>26.0</td>\n",
       "      <td>0</td>\n",
       "      <td>0</td>\n",
       "      <td>7.9250</td>\n",
       "      <td>S</td>\n",
       "      <td>0</td>\n",
       "      <td>Miss</td>\n",
       "    </tr>\n",
       "    <tr>\n",
       "      <th>3</th>\n",
       "      <td>1</td>\n",
       "      <td>1</td>\n",
       "      <td>Futrelle, Mrs. Jacques Heath (Lily May Peel)</td>\n",
       "      <td>35.0</td>\n",
       "      <td>1</td>\n",
       "      <td>0</td>\n",
       "      <td>53.1000</td>\n",
       "      <td>S</td>\n",
       "      <td>0</td>\n",
       "      <td>Mrs</td>\n",
       "    </tr>\n",
       "    <tr>\n",
       "      <th>4</th>\n",
       "      <td>0</td>\n",
       "      <td>3</td>\n",
       "      <td>Allen, Mr. William Henry</td>\n",
       "      <td>35.0</td>\n",
       "      <td>0</td>\n",
       "      <td>0</td>\n",
       "      <td>8.0500</td>\n",
       "      <td>S</td>\n",
       "      <td>1</td>\n",
       "      <td>Mr</td>\n",
       "    </tr>\n",
       "  </tbody>\n",
       "</table>\n",
       "</div>"
      ],
      "text/plain": [
       "   Survived  Pclass                                               Name   Age  \\\n",
       "0         0       3                            Braund, Mr. Owen Harris  22.0   \n",
       "1         1       1  Cumings, Mrs. John Bradley (Florence Briggs Th...  38.0   \n",
       "2         1       3                             Heikkinen, Miss. Laina  26.0   \n",
       "3         1       1       Futrelle, Mrs. Jacques Heath (Lily May Peel)  35.0   \n",
       "4         0       3                           Allen, Mr. William Henry  35.0   \n",
       "\n",
       "   SibSp  Parch     Fare Embarked  Binary Sex Title  \n",
       "0      1      0   7.2500        S           1    Mr  \n",
       "1      1      0  71.2833        C           0   Mrs  \n",
       "2      0      0   7.9250        S           0  Miss  \n",
       "3      1      0  53.1000        S           0   Mrs  \n",
       "4      0      0   8.0500        S           1    Mr  "
      ]
     },
     "execution_count": 16,
     "metadata": {},
     "output_type": "execute_result"
    }
   ],
   "source": [
    "#From Name feature, extract the Title of the individual\n",
    "manipTrain['Title'] = [line.split(\",\")[1].split(\".\")[0][1:] for line in manipTrain['Name']]\n",
    "manipTrain.head()"
   ]
  },
  {
   "cell_type": "code",
   "execution_count": 17,
   "metadata": {},
   "outputs": [
    {
     "data": {
      "text/plain": [
       "array(['Mr', 'Mrs', 'Miss', 'Master', 'Don', 'Rev', 'Dr', 'Mme', 'Ms',\n",
       "       'Major', 'Lady', 'Sir', 'Mlle', 'Col', 'Capt', 'the Countess',\n",
       "       'Jonkheer'], dtype=object)"
      ]
     },
     "execution_count": 17,
     "metadata": {},
     "output_type": "execute_result"
    }
   ],
   "source": [
    "#all unique values for the Title feature\n",
    "manipTrain['Title'].unique()"
   ]
  },
  {
   "cell_type": "code",
   "execution_count": 18,
   "metadata": {},
   "outputs": [
    {
     "data": {
      "text/plain": [
       "Mr              517\n",
       "Miss            182\n",
       "Mrs             125\n",
       "Master           40\n",
       "Dr                7\n",
       "Rev               6\n",
       "Mlle              2\n",
       "Col               2\n",
       "Major             2\n",
       "Sir               1\n",
       "Don               1\n",
       "Ms                1\n",
       "Mme               1\n",
       "Lady              1\n",
       "the Countess      1\n",
       "Jonkheer          1\n",
       "Capt              1\n",
       "Name: Title, dtype: int64"
      ]
     },
     "execution_count": 18,
     "metadata": {},
     "output_type": "execute_result"
    }
   ],
   "source": [
    "#checking the number of unique values in Title feature\n",
    "manipTrain['Title'].value_counts()"
   ]
  },
  {
   "cell_type": "code",
   "execution_count": 19,
   "metadata": {},
   "outputs": [],
   "source": [
    "#drop the original Name feature\n",
    "manipTrain.drop('Name', axis = 1, inplace = True)"
   ]
  },
  {
   "cell_type": "code",
   "execution_count": 20,
   "metadata": {},
   "outputs": [
    {
     "data": {
      "text/html": [
       "<div>\n",
       "<style scoped>\n",
       "    .dataframe tbody tr th:only-of-type {\n",
       "        vertical-align: middle;\n",
       "    }\n",
       "\n",
       "    .dataframe tbody tr th {\n",
       "        vertical-align: top;\n",
       "    }\n",
       "\n",
       "    .dataframe thead th {\n",
       "        text-align: right;\n",
       "    }\n",
       "</style>\n",
       "<table border=\"1\" class=\"dataframe\">\n",
       "  <thead>\n",
       "    <tr style=\"text-align: right;\">\n",
       "      <th></th>\n",
       "      <th>Survived</th>\n",
       "      <th>Pclass</th>\n",
       "      <th>Age</th>\n",
       "      <th>SibSp</th>\n",
       "      <th>Parch</th>\n",
       "      <th>Fare</th>\n",
       "      <th>Embarked</th>\n",
       "      <th>Binary Sex</th>\n",
       "      <th>Title</th>\n",
       "    </tr>\n",
       "  </thead>\n",
       "  <tbody>\n",
       "    <tr>\n",
       "      <th>759</th>\n",
       "      <td>1</td>\n",
       "      <td>1</td>\n",
       "      <td>33.0</td>\n",
       "      <td>0</td>\n",
       "      <td>0</td>\n",
       "      <td>86.5</td>\n",
       "      <td>S</td>\n",
       "      <td>0</td>\n",
       "      <td>the Countess</td>\n",
       "    </tr>\n",
       "  </tbody>\n",
       "</table>\n",
       "</div>"
      ],
      "text/plain": [
       "     Survived  Pclass   Age  SibSp  Parch  Fare Embarked  Binary Sex  \\\n",
       "759         1       1  33.0      0      0  86.5        S           0   \n",
       "\n",
       "            Title  \n",
       "759  the Countess  "
      ]
     },
     "execution_count": 20,
     "metadata": {},
     "output_type": "execute_result"
    }
   ],
   "source": [
    "#find the row that uses the Countess as its value for the Title feature\n",
    "manipTrain.loc[manipTrain['Title'] == 'the Countess']"
   ]
  },
  {
   "cell_type": "code",
   "execution_count": 21,
   "metadata": {},
   "outputs": [
    {
     "name": "stdout",
     "output_type": "stream",
     "text": [
      "[759]\n"
     ]
    }
   ],
   "source": [
    "#find the indices where the value for Title is the Countess\n",
    "countess = manipTrain.index[manipTrain['Title'] == 'the Countess'].tolist()\n",
    "print(countess)"
   ]
  },
  {
   "cell_type": "code",
   "execution_count": 22,
   "metadata": {},
   "outputs": [
    {
     "data": {
      "text/plain": [
       "\"\\n#another way to try and do this\\ndf['Title'] = df.Name.map( lambda x: x.split(',')[1].split( '.' )[0].strip())\\n\\ndf['Title'] = df['Title'].replace('Mlle', 'Miss')\\ndf['Title'] = df['Title'].replace(['Mme','Lady','Ms'], 'Mrs')\\ndf.Title.loc[ (df.Title !=  'Master') & (df.Title !=  'Mr') & (df.Title !=  'Miss') \\n             & (df.Title !=  'Mrs')] = 'Others'\\n             \\n             \\n#dummy, one hot encoding\\ndf = pd.concat([df, pd.get_dummies(df['Title'])], axis=1).drop(labels=['Name'], axis=1)\\n\""
      ]
     },
     "execution_count": 22,
     "metadata": {},
     "output_type": "execute_result"
    }
   ],
   "source": [
    "#recategorizing some of the values from Title feature\n",
    "for i in countess:\n",
    "    manipTrain.at[i, 'Title'] = 'Nobility'\n",
    "jonkheer = manipTrain.index[manipTrain['Title'] == 'Jonkheer'].tolist()\n",
    "for i in jonkheer:\n",
    "    manipTrain.at[i, 'Title'] = 'Nobility'\n",
    "mme = manipTrain.index[manipTrain['Title'] == 'Mme'].tolist()\n",
    "for i in mme:\n",
    "    manipTrain.at[i, 'Title'] = 'Mrs'\n",
    "mlle = manipTrain.index[manipTrain['Title'] == 'Mlle'].tolist()\n",
    "for i in mlle:\n",
    "    manipTrain.at[i, 'Title'] = 'Miss'\n",
    "ms = manipTrain.index[manipTrain['Title'] == 'Ms'].tolist()\n",
    "for i in ms:\n",
    "    manipTrain.at[i, 'Title'] = 'Miss'\n",
    "don = manipTrain.index[manipTrain['Title'] == 'Don'].tolist()\n",
    "for i in don:\n",
    "    manipTrain.at[i, 'Title'] = 'Nobility'\n",
    "lady = manipTrain.index[manipTrain['Title'] == 'Lady'].tolist()\n",
    "for i in lady:\n",
    "    manipTrain.at[i, 'Title'] = 'Nobility'\n",
    "sir = manipTrain.index[manipTrain['Title'] == 'Sir'].tolist()\n",
    "for i in sir:\n",
    "    manipTrain.at[i, 'Title'] = 'Nobility'\n",
    "capt = manipTrain.index[manipTrain['Title'] == 'Capt'].tolist()\n",
    "for i in capt:\n",
    "    manipTrain.at[i, 'Title'] = 'Military'\n",
    "major = manipTrain.index[manipTrain['Title'] == 'Major'].tolist()\n",
    "for i in major:\n",
    "    manipTrain.at[i, 'Title'] = 'Military'\n",
    "col = manipTrain.index[manipTrain['Title'] == 'Col'].tolist()\n",
    "for i in col:\n",
    "    manipTrain.at[i, 'Title'] = 'Military'\n",
    "    \n",
    "'''\n",
    "#another way to try and do this\n",
    "df['Title'] = df.Name.map( lambda x: x.split(',')[1].split( '.' )[0].strip())\n",
    "\n",
    "df['Title'] = df['Title'].replace('Mlle', 'Miss')\n",
    "df['Title'] = df['Title'].replace(['Mme','Lady','Ms'], 'Mrs')\n",
    "df.Title.loc[ (df.Title !=  'Master') & (df.Title !=  'Mr') & (df.Title !=  'Miss') \n",
    "             & (df.Title !=  'Mrs')] = 'Others'\n",
    "             \n",
    "             \n",
    "#dummy, one hot encoding\n",
    "df = pd.concat([df, pd.get_dummies(df['Title'])], axis=1).drop(labels=['Name'], axis=1)\n",
    "'''"
   ]
  },
  {
   "cell_type": "code",
   "execution_count": 23,
   "metadata": {},
   "outputs": [
    {
     "data": {
      "text/plain": [
       "Mr          517\n",
       "Miss        185\n",
       "Mrs         126\n",
       "Master       40\n",
       "Dr            7\n",
       "Rev           6\n",
       "Nobility      5\n",
       "Military      5\n",
       "Name: Title, dtype: int64"
      ]
     },
     "execution_count": 23,
     "metadata": {},
     "output_type": "execute_result"
    }
   ],
   "source": [
    "#checking the number of unique values in Title feature\n",
    "manipTrain['Title'].value_counts()"
   ]
  },
  {
   "cell_type": "code",
   "execution_count": 24,
   "metadata": {
    "scrolled": true
   },
   "outputs": [
    {
     "data": {
      "text/plain": [
       "<matplotlib.axes._subplots.AxesSubplot at 0x1a21f797b8>"
      ]
     },
     "execution_count": 24,
     "metadata": {},
     "output_type": "execute_result"
    },
    {
     "data": {
      "image/png": "[encoded data removed]",
      "text/plain": [
       "<Figure size 432x288 with 1 Axes>"
      ]
     },
     "metadata": {
      "needs_background": "light"
     },
     "output_type": "display_data"
    }
   ],
   "source": [
    "#bar plot of Title and probability of Survival\n",
    "sns.barplot(x='Title',y='Survived',data=manipTrain)"
   ]
  },
  {
   "cell_type": "code",
   "execution_count": 25,
   "metadata": {},
   "outputs": [
    {
     "data": {
      "text/html": [
       "<div>\n",
       "<style scoped>\n",
       "    .dataframe tbody tr th:only-of-type {\n",
       "        vertical-align: middle;\n",
       "    }\n",
       "\n",
       "    .dataframe tbody tr th {\n",
       "        vertical-align: top;\n",
       "    }\n",
       "\n",
       "    .dataframe thead th {\n",
       "        text-align: right;\n",
       "    }\n",
       "</style>\n",
       "<table border=\"1\" class=\"dataframe\">\n",
       "  <thead>\n",
       "    <tr style=\"text-align: right;\">\n",
       "      <th></th>\n",
       "      <th>Survived</th>\n",
       "      <th>Pclass</th>\n",
       "      <th>Age</th>\n",
       "      <th>SibSp</th>\n",
       "      <th>Parch</th>\n",
       "      <th>Fare</th>\n",
       "      <th>Embarked</th>\n",
       "      <th>Binary Sex</th>\n",
       "      <th>Title</th>\n",
       "    </tr>\n",
       "  </thead>\n",
       "  <tbody>\n",
       "    <tr>\n",
       "      <th>0</th>\n",
       "      <td>0</td>\n",
       "      <td>3</td>\n",
       "      <td>22.0</td>\n",
       "      <td>1</td>\n",
       "      <td>0</td>\n",
       "      <td>7.2500</td>\n",
       "      <td>S</td>\n",
       "      <td>1</td>\n",
       "      <td>Mr</td>\n",
       "    </tr>\n",
       "    <tr>\n",
       "      <th>1</th>\n",
       "      <td>1</td>\n",
       "      <td>1</td>\n",
       "      <td>38.0</td>\n",
       "      <td>1</td>\n",
       "      <td>0</td>\n",
       "      <td>71.2833</td>\n",
       "      <td>C</td>\n",
       "      <td>0</td>\n",
       "      <td>Mrs</td>\n",
       "    </tr>\n",
       "    <tr>\n",
       "      <th>2</th>\n",
       "      <td>1</td>\n",
       "      <td>3</td>\n",
       "      <td>26.0</td>\n",
       "      <td>0</td>\n",
       "      <td>0</td>\n",
       "      <td>7.9250</td>\n",
       "      <td>S</td>\n",
       "      <td>0</td>\n",
       "      <td>Miss</td>\n",
       "    </tr>\n",
       "    <tr>\n",
       "      <th>3</th>\n",
       "      <td>1</td>\n",
       "      <td>1</td>\n",
       "      <td>35.0</td>\n",
       "      <td>1</td>\n",
       "      <td>0</td>\n",
       "      <td>53.1000</td>\n",
       "      <td>S</td>\n",
       "      <td>0</td>\n",
       "      <td>Mrs</td>\n",
       "    </tr>\n",
       "    <tr>\n",
       "      <th>4</th>\n",
       "      <td>0</td>\n",
       "      <td>3</td>\n",
       "      <td>35.0</td>\n",
       "      <td>0</td>\n",
       "      <td>0</td>\n",
       "      <td>8.0500</td>\n",
       "      <td>S</td>\n",
       "      <td>1</td>\n",
       "      <td>Mr</td>\n",
       "    </tr>\n",
       "    <tr>\n",
       "      <th>5</th>\n",
       "      <td>0</td>\n",
       "      <td>3</td>\n",
       "      <td>NaN</td>\n",
       "      <td>0</td>\n",
       "      <td>0</td>\n",
       "      <td>8.4583</td>\n",
       "      <td>Q</td>\n",
       "      <td>1</td>\n",
       "      <td>Mr</td>\n",
       "    </tr>\n",
       "    <tr>\n",
       "      <th>6</th>\n",
       "      <td>0</td>\n",
       "      <td>1</td>\n",
       "      <td>54.0</td>\n",
       "      <td>0</td>\n",
       "      <td>0</td>\n",
       "      <td>51.8625</td>\n",
       "      <td>S</td>\n",
       "      <td>1</td>\n",
       "      <td>Mr</td>\n",
       "    </tr>\n",
       "    <tr>\n",
       "      <th>7</th>\n",
       "      <td>0</td>\n",
       "      <td>3</td>\n",
       "      <td>2.0</td>\n",
       "      <td>3</td>\n",
       "      <td>1</td>\n",
       "      <td>21.0750</td>\n",
       "      <td>S</td>\n",
       "      <td>1</td>\n",
       "      <td>Master</td>\n",
       "    </tr>\n",
       "    <tr>\n",
       "      <th>8</th>\n",
       "      <td>1</td>\n",
       "      <td>3</td>\n",
       "      <td>27.0</td>\n",
       "      <td>0</td>\n",
       "      <td>2</td>\n",
       "      <td>11.1333</td>\n",
       "      <td>S</td>\n",
       "      <td>0</td>\n",
       "      <td>Mrs</td>\n",
       "    </tr>\n",
       "    <tr>\n",
       "      <th>9</th>\n",
       "      <td>1</td>\n",
       "      <td>2</td>\n",
       "      <td>14.0</td>\n",
       "      <td>1</td>\n",
       "      <td>0</td>\n",
       "      <td>30.0708</td>\n",
       "      <td>C</td>\n",
       "      <td>0</td>\n",
       "      <td>Mrs</td>\n",
       "    </tr>\n",
       "  </tbody>\n",
       "</table>\n",
       "</div>"
      ],
      "text/plain": [
       "   Survived  Pclass   Age  SibSp  Parch     Fare Embarked  Binary Sex   Title\n",
       "0         0       3  22.0      1      0   7.2500        S           1      Mr\n",
       "1         1       1  38.0      1      0  71.2833        C           0     Mrs\n",
       "2         1       3  26.0      0      0   7.9250        S           0    Miss\n",
       "3         1       1  35.0      1      0  53.1000        S           0     Mrs\n",
       "4         0       3  35.0      0      0   8.0500        S           1      Mr\n",
       "5         0       3   NaN      0      0   8.4583        Q           1      Mr\n",
       "6         0       1  54.0      0      0  51.8625        S           1      Mr\n",
       "7         0       3   2.0      3      1  21.0750        S           1  Master\n",
       "8         1       3  27.0      0      2  11.1333        S           0     Mrs\n",
       "9         1       2  14.0      1      0  30.0708        C           0     Mrs"
      ]
     },
     "execution_count": 25,
     "metadata": {},
     "output_type": "execute_result"
    }
   ],
   "source": [
    "#looking at the first 10 rows again\n",
    "manipTrain.head(10)"
   ]
  },
  {
   "cell_type": "code",
   "execution_count": 26,
   "metadata": {},
   "outputs": [
    {
     "data": {
      "text/plain": [
       "Survived        0\n",
       "Pclass          0\n",
       "Age           177\n",
       "SibSp           0\n",
       "Parch           0\n",
       "Fare            0\n",
       "Embarked        0\n",
       "Binary Sex      0\n",
       "Title           0\n",
       "dtype: int64"
      ]
     },
     "execution_count": 26,
     "metadata": {},
     "output_type": "execute_result"
    }
   ],
   "source": [
    "#seeing the total null values for each feature\n",
    "manipTrain.isnull().sum()"
   ]
  },
  {
   "cell_type": "code",
   "execution_count": 27,
   "metadata": {},
   "outputs": [
    {
     "data": {
      "text/html": [
       "<div>\n",
       "<style scoped>\n",
       "    .dataframe tbody tr th:only-of-type {\n",
       "        vertical-align: middle;\n",
       "    }\n",
       "\n",
       "    .dataframe tbody tr th {\n",
       "        vertical-align: top;\n",
       "    }\n",
       "\n",
       "    .dataframe thead th {\n",
       "        text-align: right;\n",
       "    }\n",
       "</style>\n",
       "<table border=\"1\" class=\"dataframe\">\n",
       "  <thead>\n",
       "    <tr style=\"text-align: right;\">\n",
       "      <th></th>\n",
       "      <th>Survived</th>\n",
       "      <th>Pclass</th>\n",
       "      <th>Age</th>\n",
       "      <th>SibSp</th>\n",
       "      <th>Parch</th>\n",
       "      <th>Fare</th>\n",
       "      <th>Binary Sex</th>\n",
       "    </tr>\n",
       "  </thead>\n",
       "  <tbody>\n",
       "    <tr>\n",
       "      <th>count</th>\n",
       "      <td>891.000000</td>\n",
       "      <td>891.000000</td>\n",
       "      <td>714.000000</td>\n",
       "      <td>891.000000</td>\n",
       "      <td>891.000000</td>\n",
       "      <td>891.000000</td>\n",
       "      <td>891.000000</td>\n",
       "    </tr>\n",
       "    <tr>\n",
       "      <th>mean</th>\n",
       "      <td>0.383838</td>\n",
       "      <td>2.308642</td>\n",
       "      <td>29.699118</td>\n",
       "      <td>0.523008</td>\n",
       "      <td>0.381594</td>\n",
       "      <td>32.204208</td>\n",
       "      <td>0.647587</td>\n",
       "    </tr>\n",
       "    <tr>\n",
       "      <th>std</th>\n",
       "      <td>0.486592</td>\n",
       "      <td>0.836071</td>\n",
       "      <td>14.526497</td>\n",
       "      <td>1.102743</td>\n",
       "      <td>0.806057</td>\n",
       "      <td>49.693429</td>\n",
       "      <td>0.477990</td>\n",
       "    </tr>\n",
       "    <tr>\n",
       "      <th>min</th>\n",
       "      <td>0.000000</td>\n",
       "      <td>1.000000</td>\n",
       "      <td>0.420000</td>\n",
       "      <td>0.000000</td>\n",
       "      <td>0.000000</td>\n",
       "      <td>0.000000</td>\n",
       "      <td>0.000000</td>\n",
       "    </tr>\n",
       "    <tr>\n",
       "      <th>25%</th>\n",
       "      <td>0.000000</td>\n",
       "      <td>2.000000</td>\n",
       "      <td>20.125000</td>\n",
       "      <td>0.000000</td>\n",
       "      <td>0.000000</td>\n",
       "      <td>7.910400</td>\n",
       "      <td>0.000000</td>\n",
       "    </tr>\n",
       "    <tr>\n",
       "      <th>50%</th>\n",
       "      <td>0.000000</td>\n",
       "      <td>3.000000</td>\n",
       "      <td>28.000000</td>\n",
       "      <td>0.000000</td>\n",
       "      <td>0.000000</td>\n",
       "      <td>14.454200</td>\n",
       "      <td>1.000000</td>\n",
       "    </tr>\n",
       "    <tr>\n",
       "      <th>75%</th>\n",
       "      <td>1.000000</td>\n",
       "      <td>3.000000</td>\n",
       "      <td>38.000000</td>\n",
       "      <td>1.000000</td>\n",
       "      <td>0.000000</td>\n",
       "      <td>31.000000</td>\n",
       "      <td>1.000000</td>\n",
       "    </tr>\n",
       "    <tr>\n",
       "      <th>max</th>\n",
       "      <td>1.000000</td>\n",
       "      <td>3.000000</td>\n",
       "      <td>80.000000</td>\n",
       "      <td>8.000000</td>\n",
       "      <td>6.000000</td>\n",
       "      <td>512.329200</td>\n",
       "      <td>1.000000</td>\n",
       "    </tr>\n",
       "  </tbody>\n",
       "</table>\n",
       "</div>"
      ],
      "text/plain": [
       "         Survived      Pclass         Age       SibSp       Parch        Fare  \\\n",
       "count  891.000000  891.000000  714.000000  891.000000  891.000000  891.000000   \n",
       "mean     0.383838    2.308642   29.699118    0.523008    0.381594   32.204208   \n",
       "std      0.486592    0.836071   14.526497    1.102743    0.806057   49.693429   \n",
       "min      0.000000    1.000000    0.420000    0.000000    0.000000    0.000000   \n",
       "25%      0.000000    2.000000   20.125000    0.000000    0.000000    7.910400   \n",
       "50%      0.000000    3.000000   28.000000    0.000000    0.000000   14.454200   \n",
       "75%      1.000000    3.000000   38.000000    1.000000    0.000000   31.000000   \n",
       "max      1.000000    3.000000   80.000000    8.000000    6.000000  512.329200   \n",
       "\n",
       "       Binary Sex  \n",
       "count  891.000000  \n",
       "mean     0.647587  \n",
       "std      0.477990  \n",
       "min      0.000000  \n",
       "25%      0.000000  \n",
       "50%      1.000000  \n",
       "75%      1.000000  \n",
       "max      1.000000  "
      ]
     },
     "execution_count": 27,
     "metadata": {},
     "output_type": "execute_result"
    }
   ],
   "source": [
    "#description of each feature in manipTrain dataframe\n",
    "manipTrain.describe()"
   ]
  },
  {
   "cell_type": "code",
   "execution_count": 28,
   "metadata": {},
   "outputs": [],
   "source": [
    "#drop Survived feature for training\n",
    "preTrain = manipTrain.drop('Survived',axis=1)"
   ]
  },
  {
   "cell_type": "code",
   "execution_count": 29,
   "metadata": {},
   "outputs": [
    {
     "data": {
      "text/html": [
       "<div>\n",
       "<style scoped>\n",
       "    .dataframe tbody tr th:only-of-type {\n",
       "        vertical-align: middle;\n",
       "    }\n",
       "\n",
       "    .dataframe tbody tr th {\n",
       "        vertical-align: top;\n",
       "    }\n",
       "\n",
       "    .dataframe thead th {\n",
       "        text-align: right;\n",
       "    }\n",
       "</style>\n",
       "<table border=\"1\" class=\"dataframe\">\n",
       "  <thead>\n",
       "    <tr style=\"text-align: right;\">\n",
       "      <th></th>\n",
       "      <th>Pclass</th>\n",
       "      <th>Age</th>\n",
       "      <th>SibSp</th>\n",
       "      <th>Parch</th>\n",
       "      <th>Fare</th>\n",
       "      <th>Embarked</th>\n",
       "      <th>Binary Sex</th>\n",
       "      <th>Title</th>\n",
       "    </tr>\n",
       "  </thead>\n",
       "  <tbody>\n",
       "    <tr>\n",
       "      <th>0</th>\n",
       "      <td>3</td>\n",
       "      <td>22.0</td>\n",
       "      <td>1</td>\n",
       "      <td>0</td>\n",
       "      <td>7.2500</td>\n",
       "      <td>S</td>\n",
       "      <td>1</td>\n",
       "      <td>Mr</td>\n",
       "    </tr>\n",
       "    <tr>\n",
       "      <th>1</th>\n",
       "      <td>1</td>\n",
       "      <td>38.0</td>\n",
       "      <td>1</td>\n",
       "      <td>0</td>\n",
       "      <td>71.2833</td>\n",
       "      <td>C</td>\n",
       "      <td>0</td>\n",
       "      <td>Mrs</td>\n",
       "    </tr>\n",
       "    <tr>\n",
       "      <th>2</th>\n",
       "      <td>3</td>\n",
       "      <td>26.0</td>\n",
       "      <td>0</td>\n",
       "      <td>0</td>\n",
       "      <td>7.9250</td>\n",
       "      <td>S</td>\n",
       "      <td>0</td>\n",
       "      <td>Miss</td>\n",
       "    </tr>\n",
       "    <tr>\n",
       "      <th>3</th>\n",
       "      <td>1</td>\n",
       "      <td>35.0</td>\n",
       "      <td>1</td>\n",
       "      <td>0</td>\n",
       "      <td>53.1000</td>\n",
       "      <td>S</td>\n",
       "      <td>0</td>\n",
       "      <td>Mrs</td>\n",
       "    </tr>\n",
       "    <tr>\n",
       "      <th>4</th>\n",
       "      <td>3</td>\n",
       "      <td>35.0</td>\n",
       "      <td>0</td>\n",
       "      <td>0</td>\n",
       "      <td>8.0500</td>\n",
       "      <td>S</td>\n",
       "      <td>1</td>\n",
       "      <td>Mr</td>\n",
       "    </tr>\n",
       "  </tbody>\n",
       "</table>\n",
       "</div>"
      ],
      "text/plain": [
       "   Pclass   Age  SibSp  Parch     Fare Embarked  Binary Sex Title\n",
       "0       3  22.0      1      0   7.2500        S           1    Mr\n",
       "1       1  38.0      1      0  71.2833        C           0   Mrs\n",
       "2       3  26.0      0      0   7.9250        S           0  Miss\n",
       "3       1  35.0      1      0  53.1000        S           0   Mrs\n",
       "4       3  35.0      0      0   8.0500        S           1    Mr"
      ]
     },
     "execution_count": 29,
     "metadata": {},
     "output_type": "execute_result"
    }
   ],
   "source": [
    "preTrain.head()"
   ]
  },
  {
   "cell_type": "markdown",
   "metadata": {},
   "source": [
    "# Pipeline Training Data"
   ]
  },
  {
   "cell_type": "code",
   "execution_count": 30,
   "metadata": {},
   "outputs": [],
   "source": [
    "#used from https://jorisvandenbossche.github.io/blog/2018/05/28/scikit-learn-columntransformer/\n",
    "#import necessary libaries\n",
    "from sklearn.preprocessing import StandardScaler, OneHotEncoder\n",
    "from sklearn.compose import ColumnTransformer, make_column_transformer\n",
    "from sklearn.pipeline import make_pipeline\n",
    "from sklearn.impute import SimpleImputer"
   ]
  },
  {
   "cell_type": "code",
   "execution_count": 31,
   "metadata": {},
   "outputs": [
    {
     "name": "stderr",
     "output_type": "stream",
     "text": [
      "/anaconda3/lib/python3.7/site-packages/sklearn/compose/_column_transformer.py:732: DeprecationWarning: `make_column_transformer` now expects (transformer, columns) as input tuples instead of (columns, transformer). This has been introduced in v0.20.1. `make_column_transformer` will stop accepting the deprecated (columns, transformer) order in v0.22.\n",
      "  warnings.warn(message, DeprecationWarning)\n"
     ]
    }
   ],
   "source": [
    "#Imputer uses median value instead of null values in Age feature\n",
    "#StandardScaler standardizes the Age and Fare features\n",
    "#OneHotEncoder, ignore previously unseen values when transforming the test set; add columns to turn\n",
    "#the categorical values into binary features\n",
    "preprocess = make_column_transformer(\n",
    "    (['Age','Fare'], make_pipeline(SimpleImputer(missing_values=np.nan, strategy='mean'),StandardScaler())),\n",
    "    (['Pclass','SibSp','Parch','Embarked','Binary Sex','Title'], OneHotEncoder(handle_unknown='ignore'))\n",
    ")\n",
    "readyForTrain = preprocess.fit_transform(preTrain)\n"
   ]
  },
  {
   "cell_type": "code",
   "execution_count": 32,
   "metadata": {},
   "outputs": [
    {
     "data": {
      "text/plain": [
       "(891, 32)"
      ]
     },
     "execution_count": 32,
     "metadata": {},
     "output_type": "execute_result"
    }
   ],
   "source": [
    "#shape of the transformed data\n",
    "readyForTrain.shape"
   ]
  },
  {
   "cell_type": "code",
   "execution_count": 33,
   "metadata": {},
   "outputs": [
    {
     "data": {
      "text/plain": [
       "scipy.sparse.csr.csr_matrix"
      ]
     },
     "execution_count": 33,
     "metadata": {},
     "output_type": "execute_result"
    }
   ],
   "source": [
    "#check type of transformed dat (should be a sparse matrix)\n",
    "type(readyForTrain)"
   ]
  },
  {
   "cell_type": "code",
   "execution_count": 34,
   "metadata": {
    "scrolled": true
   },
   "outputs": [
    {
     "name": "stdout",
     "output_type": "stream",
     "text": [
      "         0         1    2    3    4    5    6    7    8    9   ...   22   23  \\\n",
      "0 -0.592481 -0.502445  0.0  0.0  1.0  0.0  1.0  0.0  0.0  0.0  ...  0.0  1.0   \n",
      "1  0.638789  0.786845  1.0  0.0  0.0  0.0  1.0  0.0  0.0  0.0  ...  1.0  0.0   \n",
      "2 -0.284663 -0.488854  0.0  0.0  1.0  1.0  0.0  0.0  0.0  0.0  ...  1.0  0.0   \n",
      "3  0.407926  0.420730  1.0  0.0  0.0  0.0  1.0  0.0  0.0  0.0  ...  1.0  0.0   \n",
      "4  0.407926 -0.486337  0.0  0.0  1.0  1.0  0.0  0.0  0.0  0.0  ...  0.0  1.0   \n",
      "\n",
      "    24   25   26   27   28   29   30   31  \n",
      "0  0.0  0.0  0.0  0.0  1.0  0.0  0.0  0.0  \n",
      "1  0.0  0.0  0.0  0.0  0.0  1.0  0.0  0.0  \n",
      "2  0.0  0.0  0.0  1.0  0.0  0.0  0.0  0.0  \n",
      "3  0.0  0.0  0.0  0.0  0.0  1.0  0.0  0.0  \n",
      "4  0.0  0.0  0.0  0.0  1.0  0.0  0.0  0.0  \n",
      "\n",
      "[5 rows x 32 columns]\n"
     ]
    }
   ],
   "source": [
    "#transform sparse matrix into a pandas DataFrame\n",
    "trainDf = pd.DataFrame(readyForTrain.todense())\n",
    "print(trainDf.head())"
   ]
  },
  {
   "cell_type": "code",
   "execution_count": 35,
   "metadata": {},
   "outputs": [],
   "source": [
    "import tensorflow as tf\n",
    "#tf.keras, a high-level API to build and train models in TensorFlow\n",
    "from tensorflow import keras"
   ]
  },
  {
   "cell_type": "code",
   "execution_count": 36,
   "metadata": {},
   "outputs": [],
   "source": [
    "#splitting the training data into a training set and a validation set\n",
    "from sklearn.model_selection import train_test_split\n",
    "X_train, X_val, Y_train, Y_val = train_test_split(trainDf, manipTrain['Survived'], random_state=42)"
   ]
  },
  {
   "cell_type": "code",
   "execution_count": 37,
   "metadata": {},
   "outputs": [
    {
     "data": {
      "text/plain": [
       "(668, 32)"
      ]
     },
     "execution_count": 37,
     "metadata": {},
     "output_type": "execute_result"
    }
   ],
   "source": [
    "#check the shape of the independent variables training set\n",
    "X_train.shape"
   ]
  },
  {
   "cell_type": "code",
   "execution_count": 38,
   "metadata": {},
   "outputs": [
    {
     "data": {
      "text/plain": [
       "(223, 32)"
      ]
     },
     "execution_count": 38,
     "metadata": {},
     "output_type": "execute_result"
    }
   ],
   "source": [
    "#check the shape of the independent variables validation set\n",
    "X_val.shape"
   ]
  },
  {
   "cell_type": "code",
   "execution_count": 39,
   "metadata": {},
   "outputs": [
    {
     "data": {
      "text/html": [
       "<div>\n",
       "<style scoped>\n",
       "    .dataframe tbody tr th:only-of-type {\n",
       "        vertical-align: middle;\n",
       "    }\n",
       "\n",
       "    .dataframe tbody tr th {\n",
       "        vertical-align: top;\n",
       "    }\n",
       "\n",
       "    .dataframe thead th {\n",
       "        text-align: right;\n",
       "    }\n",
       "</style>\n",
       "<table border=\"1\" class=\"dataframe\">\n",
       "  <thead>\n",
       "    <tr style=\"text-align: right;\">\n",
       "      <th></th>\n",
       "      <th>0</th>\n",
       "      <th>1</th>\n",
       "      <th>2</th>\n",
       "      <th>3</th>\n",
       "      <th>4</th>\n",
       "      <th>5</th>\n",
       "      <th>6</th>\n",
       "      <th>7</th>\n",
       "      <th>8</th>\n",
       "      <th>9</th>\n",
       "      <th>...</th>\n",
       "      <th>22</th>\n",
       "      <th>23</th>\n",
       "      <th>24</th>\n",
       "      <th>25</th>\n",
       "      <th>26</th>\n",
       "      <th>27</th>\n",
       "      <th>28</th>\n",
       "      <th>29</th>\n",
       "      <th>30</th>\n",
       "      <th>31</th>\n",
       "    </tr>\n",
       "  </thead>\n",
       "  <tbody>\n",
       "    <tr>\n",
       "      <th>709</th>\n",
       "      <td>0.000000</td>\n",
       "      <td>-0.341452</td>\n",
       "      <td>0.0</td>\n",
       "      <td>0.0</td>\n",
       "      <td>1.0</td>\n",
       "      <td>0.0</td>\n",
       "      <td>1.0</td>\n",
       "      <td>0.0</td>\n",
       "      <td>0.0</td>\n",
       "      <td>0.0</td>\n",
       "      <td>...</td>\n",
       "      <td>0.0</td>\n",
       "      <td>1.0</td>\n",
       "      <td>0.0</td>\n",
       "      <td>1.0</td>\n",
       "      <td>0.0</td>\n",
       "      <td>0.0</td>\n",
       "      <td>0.0</td>\n",
       "      <td>0.0</td>\n",
       "      <td>0.0</td>\n",
       "      <td>0.0</td>\n",
       "    </tr>\n",
       "    <tr>\n",
       "      <th>439</th>\n",
       "      <td>0.100109</td>\n",
       "      <td>-0.437007</td>\n",
       "      <td>0.0</td>\n",
       "      <td>1.0</td>\n",
       "      <td>0.0</td>\n",
       "      <td>1.0</td>\n",
       "      <td>0.0</td>\n",
       "      <td>0.0</td>\n",
       "      <td>0.0</td>\n",
       "      <td>0.0</td>\n",
       "      <td>...</td>\n",
       "      <td>0.0</td>\n",
       "      <td>1.0</td>\n",
       "      <td>0.0</td>\n",
       "      <td>0.0</td>\n",
       "      <td>0.0</td>\n",
       "      <td>0.0</td>\n",
       "      <td>1.0</td>\n",
       "      <td>0.0</td>\n",
       "      <td>0.0</td>\n",
       "      <td>0.0</td>\n",
       "    </tr>\n",
       "    <tr>\n",
       "      <th>840</th>\n",
       "      <td>-0.746389</td>\n",
       "      <td>-0.488854</td>\n",
       "      <td>0.0</td>\n",
       "      <td>0.0</td>\n",
       "      <td>1.0</td>\n",
       "      <td>1.0</td>\n",
       "      <td>0.0</td>\n",
       "      <td>0.0</td>\n",
       "      <td>0.0</td>\n",
       "      <td>0.0</td>\n",
       "      <td>...</td>\n",
       "      <td>0.0</td>\n",
       "      <td>1.0</td>\n",
       "      <td>0.0</td>\n",
       "      <td>0.0</td>\n",
       "      <td>0.0</td>\n",
       "      <td>0.0</td>\n",
       "      <td>1.0</td>\n",
       "      <td>0.0</td>\n",
       "      <td>0.0</td>\n",
       "      <td>0.0</td>\n",
       "    </tr>\n",
       "    <tr>\n",
       "      <th>720</th>\n",
       "      <td>-1.823750</td>\n",
       "      <td>0.016023</td>\n",
       "      <td>0.0</td>\n",
       "      <td>1.0</td>\n",
       "      <td>0.0</td>\n",
       "      <td>1.0</td>\n",
       "      <td>0.0</td>\n",
       "      <td>0.0</td>\n",
       "      <td>0.0</td>\n",
       "      <td>0.0</td>\n",
       "      <td>...</td>\n",
       "      <td>1.0</td>\n",
       "      <td>0.0</td>\n",
       "      <td>0.0</td>\n",
       "      <td>0.0</td>\n",
       "      <td>0.0</td>\n",
       "      <td>1.0</td>\n",
       "      <td>0.0</td>\n",
       "      <td>0.0</td>\n",
       "      <td>0.0</td>\n",
       "      <td>0.0</td>\n",
       "    </tr>\n",
       "    <tr>\n",
       "      <th>39</th>\n",
       "      <td>-1.208115</td>\n",
       "      <td>-0.422074</td>\n",
       "      <td>0.0</td>\n",
       "      <td>0.0</td>\n",
       "      <td>1.0</td>\n",
       "      <td>0.0</td>\n",
       "      <td>1.0</td>\n",
       "      <td>0.0</td>\n",
       "      <td>0.0</td>\n",
       "      <td>0.0</td>\n",
       "      <td>...</td>\n",
       "      <td>1.0</td>\n",
       "      <td>0.0</td>\n",
       "      <td>0.0</td>\n",
       "      <td>0.0</td>\n",
       "      <td>0.0</td>\n",
       "      <td>1.0</td>\n",
       "      <td>0.0</td>\n",
       "      <td>0.0</td>\n",
       "      <td>0.0</td>\n",
       "      <td>0.0</td>\n",
       "    </tr>\n",
       "  </tbody>\n",
       "</table>\n",
       "<p>5 rows × 32 columns</p>\n",
       "</div>"
      ],
      "text/plain": [
       "           0         1    2    3    4    5    6    7    8    9   ...   22  \\\n",
       "709  0.000000 -0.341452  0.0  0.0  1.0  0.0  1.0  0.0  0.0  0.0  ...  0.0   \n",
       "439  0.100109 -0.437007  0.0  1.0  0.0  1.0  0.0  0.0  0.0  0.0  ...  0.0   \n",
       "840 -0.746389 -0.488854  0.0  0.0  1.0  1.0  0.0  0.0  0.0  0.0  ...  0.0   \n",
       "720 -1.823750  0.016023  0.0  1.0  0.0  1.0  0.0  0.0  0.0  0.0  ...  1.0   \n",
       "39  -1.208115 -0.422074  0.0  0.0  1.0  0.0  1.0  0.0  0.0  0.0  ...  1.0   \n",
       "\n",
       "      23   24   25   26   27   28   29   30   31  \n",
       "709  1.0  0.0  1.0  0.0  0.0  0.0  0.0  0.0  0.0  \n",
       "439  1.0  0.0  0.0  0.0  0.0  1.0  0.0  0.0  0.0  \n",
       "840  1.0  0.0  0.0  0.0  0.0  1.0  0.0  0.0  0.0  \n",
       "720  0.0  0.0  0.0  0.0  1.0  0.0  0.0  0.0  0.0  \n",
       "39   0.0  0.0  0.0  0.0  1.0  0.0  0.0  0.0  0.0  \n",
       "\n",
       "[5 rows x 32 columns]"
      ]
     },
     "execution_count": 39,
     "metadata": {},
     "output_type": "execute_result"
    }
   ],
   "source": [
    "#checking to see that the independent variables validation set is a dataframe\n",
    "X_val.head()"
   ]
  },
  {
   "cell_type": "code",
   "execution_count": 40,
   "metadata": {},
   "outputs": [
    {
     "data": {
      "text/plain": [
       "(668,)"
      ]
     },
     "execution_count": 40,
     "metadata": {},
     "output_type": "execute_result"
    }
   ],
   "source": [
    "#checking to see the shape of the dependent variables training set\n",
    "Y_train.shape"
   ]
  },
  {
   "cell_type": "code",
   "execution_count": 41,
   "metadata": {},
   "outputs": [
    {
     "data": {
      "text/plain": [
       "709    1\n",
       "439    0\n",
       "840    0\n",
       "720    1\n",
       "39     1\n",
       "Name: Survived, dtype: int64"
      ]
     },
     "execution_count": 41,
     "metadata": {},
     "output_type": "execute_result"
    }
   ],
   "source": [
    "#checking to see that the dependent variables validation set is a Series\n",
    "Y_val.head()"
   ]
  },
  {
   "cell_type": "code",
   "execution_count": 42,
   "metadata": {},
   "outputs": [],
   "source": [
    "#return a numpy representation of the DataFrame\n",
    "X_train = X_train.values\n",
    "X_val = X_val.values\n",
    "Y_train = Y_train.values\n",
    "Y_val = Y_val.values"
   ]
  },
  {
   "cell_type": "code",
   "execution_count": 43,
   "metadata": {},
   "outputs": [
    {
     "data": {
      "text/plain": [
       "numpy.ndarray"
      ]
     },
     "execution_count": 43,
     "metadata": {},
     "output_type": "execute_result"
    }
   ],
   "source": [
    "#checking to see that the dependendent variable validation set is now a numpy array\n",
    "type(Y_val)"
   ]
  },
  {
   "cell_type": "code",
   "execution_count": 44,
   "metadata": {},
   "outputs": [],
   "source": [
    "#convert from a rank one array to a 2D array that is (n,1)\n",
    "Y_val = np.reshape(Y_val, (-1, 1))\n",
    "Y_train = np.reshape(Y_train,(-1,1))"
   ]
  },
  {
   "cell_type": "code",
   "execution_count": 45,
   "metadata": {
    "scrolled": true
   },
   "outputs": [
    {
     "data": {
      "text/plain": [
       "(668, 1)"
      ]
     },
     "execution_count": 45,
     "metadata": {},
     "output_type": "execute_result"
    }
   ],
   "source": [
    "#checking to see the shape of the dependent variables training set\n",
    "Y_train.shape"
   ]
  },
  {
   "cell_type": "markdown",
   "metadata": {},
   "source": [
    "# Preparing Test Data"
   ]
  },
  {
   "cell_type": "code",
   "execution_count": 46,
   "metadata": {
    "scrolled": true
   },
   "outputs": [
    {
     "data": {
      "text/html": [
       "<div>\n",
       "<style scoped>\n",
       "    .dataframe tbody tr th:only-of-type {\n",
       "        vertical-align: middle;\n",
       "    }\n",
       "\n",
       "    .dataframe tbody tr th {\n",
       "        vertical-align: top;\n",
       "    }\n",
       "\n",
       "    .dataframe thead th {\n",
       "        text-align: right;\n",
       "    }\n",
       "</style>\n",
       "<table border=\"1\" class=\"dataframe\">\n",
       "  <thead>\n",
       "    <tr style=\"text-align: right;\">\n",
       "      <th></th>\n",
       "      <th>PassengerId</th>\n",
       "      <th>Pclass</th>\n",
       "      <th>Name</th>\n",
       "      <th>Sex</th>\n",
       "      <th>Age</th>\n",
       "      <th>SibSp</th>\n",
       "      <th>Parch</th>\n",
       "      <th>Ticket</th>\n",
       "      <th>Fare</th>\n",
       "      <th>Cabin</th>\n",
       "      <th>Embarked</th>\n",
       "    </tr>\n",
       "  </thead>\n",
       "  <tbody>\n",
       "    <tr>\n",
       "      <th>0</th>\n",
       "      <td>892</td>\n",
       "      <td>3</td>\n",
       "      <td>Kelly, Mr. James</td>\n",
       "      <td>male</td>\n",
       "      <td>34.5</td>\n",
       "      <td>0</td>\n",
       "      <td>0</td>\n",
       "      <td>330911</td>\n",
       "      <td>7.8292</td>\n",
       "      <td>NaN</td>\n",
       "      <td>Q</td>\n",
       "    </tr>\n",
       "    <tr>\n",
       "      <th>1</th>\n",
       "      <td>893</td>\n",
       "      <td>3</td>\n",
       "      <td>Wilkes, Mrs. James (Ellen Needs)</td>\n",
       "      <td>female</td>\n",
       "      <td>47.0</td>\n",
       "      <td>1</td>\n",
       "      <td>0</td>\n",
       "      <td>363272</td>\n",
       "      <td>7.0000</td>\n",
       "      <td>NaN</td>\n",
       "      <td>S</td>\n",
       "    </tr>\n",
       "    <tr>\n",
       "      <th>2</th>\n",
       "      <td>894</td>\n",
       "      <td>2</td>\n",
       "      <td>Myles, Mr. Thomas Francis</td>\n",
       "      <td>male</td>\n",
       "      <td>62.0</td>\n",
       "      <td>0</td>\n",
       "      <td>0</td>\n",
       "      <td>240276</td>\n",
       "      <td>9.6875</td>\n",
       "      <td>NaN</td>\n",
       "      <td>Q</td>\n",
       "    </tr>\n",
       "    <tr>\n",
       "      <th>3</th>\n",
       "      <td>895</td>\n",
       "      <td>3</td>\n",
       "      <td>Wirz, Mr. Albert</td>\n",
       "      <td>male</td>\n",
       "      <td>27.0</td>\n",
       "      <td>0</td>\n",
       "      <td>0</td>\n",
       "      <td>315154</td>\n",
       "      <td>8.6625</td>\n",
       "      <td>NaN</td>\n",
       "      <td>S</td>\n",
       "    </tr>\n",
       "    <tr>\n",
       "      <th>4</th>\n",
       "      <td>896</td>\n",
       "      <td>3</td>\n",
       "      <td>Hirvonen, Mrs. Alexander (Helga E Lindqvist)</td>\n",
       "      <td>female</td>\n",
       "      <td>22.0</td>\n",
       "      <td>1</td>\n",
       "      <td>1</td>\n",
       "      <td>3101298</td>\n",
       "      <td>12.2875</td>\n",
       "      <td>NaN</td>\n",
       "      <td>S</td>\n",
       "    </tr>\n",
       "  </tbody>\n",
       "</table>\n",
       "</div>"
      ],
      "text/plain": [
       "   PassengerId  Pclass                                          Name     Sex  \\\n",
       "0          892       3                              Kelly, Mr. James    male   \n",
       "1          893       3              Wilkes, Mrs. James (Ellen Needs)  female   \n",
       "2          894       2                     Myles, Mr. Thomas Francis    male   \n",
       "3          895       3                              Wirz, Mr. Albert    male   \n",
       "4          896       3  Hirvonen, Mrs. Alexander (Helga E Lindqvist)  female   \n",
       "\n",
       "    Age  SibSp  Parch   Ticket     Fare Cabin Embarked  \n",
       "0  34.5      0      0   330911   7.8292   NaN        Q  \n",
       "1  47.0      1      0   363272   7.0000   NaN        S  \n",
       "2  62.0      0      0   240276   9.6875   NaN        Q  \n",
       "3  27.0      0      0   315154   8.6625   NaN        S  \n",
       "4  22.0      1      1  3101298  12.2875   NaN        S  "
      ]
     },
     "execution_count": 46,
     "metadata": {},
     "output_type": "execute_result"
    }
   ],
   "source": [
    "#import test data\n",
    "testData = pd.read_csv('test.csv')\n",
    "testData.head()"
   ]
  },
  {
   "cell_type": "code",
   "execution_count": 47,
   "metadata": {},
   "outputs": [],
   "source": [
    "#remove same features as training set\n",
    "preTest = testData.drop(['PassengerId','Cabin','Ticket'],axis = 1)"
   ]
  },
  {
   "cell_type": "code",
   "execution_count": 48,
   "metadata": {},
   "outputs": [
    {
     "data": {
      "text/html": [
       "<div>\n",
       "<style scoped>\n",
       "    .dataframe tbody tr th:only-of-type {\n",
       "        vertical-align: middle;\n",
       "    }\n",
       "\n",
       "    .dataframe tbody tr th {\n",
       "        vertical-align: top;\n",
       "    }\n",
       "\n",
       "    .dataframe thead th {\n",
       "        text-align: right;\n",
       "    }\n",
       "</style>\n",
       "<table border=\"1\" class=\"dataframe\">\n",
       "  <thead>\n",
       "    <tr style=\"text-align: right;\">\n",
       "      <th></th>\n",
       "      <th>Pclass</th>\n",
       "      <th>Name</th>\n",
       "      <th>Sex</th>\n",
       "      <th>Age</th>\n",
       "      <th>SibSp</th>\n",
       "      <th>Parch</th>\n",
       "      <th>Fare</th>\n",
       "      <th>Embarked</th>\n",
       "      <th>Binary Sex</th>\n",
       "    </tr>\n",
       "  </thead>\n",
       "  <tbody>\n",
       "    <tr>\n",
       "      <th>0</th>\n",
       "      <td>3</td>\n",
       "      <td>Kelly, Mr. James</td>\n",
       "      <td>male</td>\n",
       "      <td>34.5</td>\n",
       "      <td>0</td>\n",
       "      <td>0</td>\n",
       "      <td>7.8292</td>\n",
       "      <td>Q</td>\n",
       "      <td>1</td>\n",
       "    </tr>\n",
       "    <tr>\n",
       "      <th>1</th>\n",
       "      <td>3</td>\n",
       "      <td>Wilkes, Mrs. James (Ellen Needs)</td>\n",
       "      <td>female</td>\n",
       "      <td>47.0</td>\n",
       "      <td>1</td>\n",
       "      <td>0</td>\n",
       "      <td>7.0000</td>\n",
       "      <td>S</td>\n",
       "      <td>0</td>\n",
       "    </tr>\n",
       "    <tr>\n",
       "      <th>2</th>\n",
       "      <td>2</td>\n",
       "      <td>Myles, Mr. Thomas Francis</td>\n",
       "      <td>male</td>\n",
       "      <td>62.0</td>\n",
       "      <td>0</td>\n",
       "      <td>0</td>\n",
       "      <td>9.6875</td>\n",
       "      <td>Q</td>\n",
       "      <td>1</td>\n",
       "    </tr>\n",
       "    <tr>\n",
       "      <th>3</th>\n",
       "      <td>3</td>\n",
       "      <td>Wirz, Mr. Albert</td>\n",
       "      <td>male</td>\n",
       "      <td>27.0</td>\n",
       "      <td>0</td>\n",
       "      <td>0</td>\n",
       "      <td>8.6625</td>\n",
       "      <td>S</td>\n",
       "      <td>1</td>\n",
       "    </tr>\n",
       "    <tr>\n",
       "      <th>4</th>\n",
       "      <td>3</td>\n",
       "      <td>Hirvonen, Mrs. Alexander (Helga E Lindqvist)</td>\n",
       "      <td>female</td>\n",
       "      <td>22.0</td>\n",
       "      <td>1</td>\n",
       "      <td>1</td>\n",
       "      <td>12.2875</td>\n",
       "      <td>S</td>\n",
       "      <td>0</td>\n",
       "    </tr>\n",
       "  </tbody>\n",
       "</table>\n",
       "</div>"
      ],
      "text/plain": [
       "   Pclass                                          Name     Sex   Age  SibSp  \\\n",
       "0       3                              Kelly, Mr. James    male  34.5      0   \n",
       "1       3              Wilkes, Mrs. James (Ellen Needs)  female  47.0      1   \n",
       "2       2                     Myles, Mr. Thomas Francis    male  62.0      0   \n",
       "3       3                              Wirz, Mr. Albert    male  27.0      0   \n",
       "4       3  Hirvonen, Mrs. Alexander (Helga E Lindqvist)  female  22.0      1   \n",
       "\n",
       "   Parch     Fare Embarked  Binary Sex  \n",
       "0      0   7.8292        Q           1  \n",
       "1      0   7.0000        S           0  \n",
       "2      0   9.6875        Q           1  \n",
       "3      0   8.6625        S           1  \n",
       "4      1  12.2875        S           0  "
      ]
     },
     "execution_count": 48,
     "metadata": {},
     "output_type": "execute_result"
    }
   ],
   "source": [
    "#change Sex into binary classifier with male as 1 and female as 0; use encoder from training set\n",
    "testsex1hot = encoder.transform(preTest['Sex'])\n",
    "preTest['Binary Sex'] = testsex1hot\n",
    "preTest.head()"
   ]
  },
  {
   "cell_type": "code",
   "execution_count": 49,
   "metadata": {},
   "outputs": [],
   "source": [
    "#drop original Sex feature\n",
    "preTest.drop('Sex', axis=1, inplace = True)"
   ]
  },
  {
   "cell_type": "code",
   "execution_count": 50,
   "metadata": {},
   "outputs": [
    {
     "data": {
      "text/html": [
       "<div>\n",
       "<style scoped>\n",
       "    .dataframe tbody tr th:only-of-type {\n",
       "        vertical-align: middle;\n",
       "    }\n",
       "\n",
       "    .dataframe tbody tr th {\n",
       "        vertical-align: top;\n",
       "    }\n",
       "\n",
       "    .dataframe thead th {\n",
       "        text-align: right;\n",
       "    }\n",
       "</style>\n",
       "<table border=\"1\" class=\"dataframe\">\n",
       "  <thead>\n",
       "    <tr style=\"text-align: right;\">\n",
       "      <th></th>\n",
       "      <th>Pclass</th>\n",
       "      <th>Name</th>\n",
       "      <th>Age</th>\n",
       "      <th>SibSp</th>\n",
       "      <th>Parch</th>\n",
       "      <th>Fare</th>\n",
       "      <th>Embarked</th>\n",
       "      <th>Binary Sex</th>\n",
       "      <th>Title</th>\n",
       "    </tr>\n",
       "  </thead>\n",
       "  <tbody>\n",
       "    <tr>\n",
       "      <th>0</th>\n",
       "      <td>3</td>\n",
       "      <td>Kelly, Mr. James</td>\n",
       "      <td>34.5</td>\n",
       "      <td>0</td>\n",
       "      <td>0</td>\n",
       "      <td>7.8292</td>\n",
       "      <td>Q</td>\n",
       "      <td>1</td>\n",
       "      <td>Mr</td>\n",
       "    </tr>\n",
       "    <tr>\n",
       "      <th>1</th>\n",
       "      <td>3</td>\n",
       "      <td>Wilkes, Mrs. James (Ellen Needs)</td>\n",
       "      <td>47.0</td>\n",
       "      <td>1</td>\n",
       "      <td>0</td>\n",
       "      <td>7.0000</td>\n",
       "      <td>S</td>\n",
       "      <td>0</td>\n",
       "      <td>Mrs</td>\n",
       "    </tr>\n",
       "    <tr>\n",
       "      <th>2</th>\n",
       "      <td>2</td>\n",
       "      <td>Myles, Mr. Thomas Francis</td>\n",
       "      <td>62.0</td>\n",
       "      <td>0</td>\n",
       "      <td>0</td>\n",
       "      <td>9.6875</td>\n",
       "      <td>Q</td>\n",
       "      <td>1</td>\n",
       "      <td>Mr</td>\n",
       "    </tr>\n",
       "    <tr>\n",
       "      <th>3</th>\n",
       "      <td>3</td>\n",
       "      <td>Wirz, Mr. Albert</td>\n",
       "      <td>27.0</td>\n",
       "      <td>0</td>\n",
       "      <td>0</td>\n",
       "      <td>8.6625</td>\n",
       "      <td>S</td>\n",
       "      <td>1</td>\n",
       "      <td>Mr</td>\n",
       "    </tr>\n",
       "    <tr>\n",
       "      <th>4</th>\n",
       "      <td>3</td>\n",
       "      <td>Hirvonen, Mrs. Alexander (Helga E Lindqvist)</td>\n",
       "      <td>22.0</td>\n",
       "      <td>1</td>\n",
       "      <td>1</td>\n",
       "      <td>12.2875</td>\n",
       "      <td>S</td>\n",
       "      <td>0</td>\n",
       "      <td>Mrs</td>\n",
       "    </tr>\n",
       "  </tbody>\n",
       "</table>\n",
       "</div>"
      ],
      "text/plain": [
       "   Pclass                                          Name   Age  SibSp  Parch  \\\n",
       "0       3                              Kelly, Mr. James  34.5      0      0   \n",
       "1       3              Wilkes, Mrs. James (Ellen Needs)  47.0      1      0   \n",
       "2       2                     Myles, Mr. Thomas Francis  62.0      0      0   \n",
       "3       3                              Wirz, Mr. Albert  27.0      0      0   \n",
       "4       3  Hirvonen, Mrs. Alexander (Helga E Lindqvist)  22.0      1      1   \n",
       "\n",
       "      Fare Embarked  Binary Sex Title  \n",
       "0   7.8292        Q           1    Mr  \n",
       "1   7.0000        S           0   Mrs  \n",
       "2   9.6875        Q           1    Mr  \n",
       "3   8.6625        S           1    Mr  \n",
       "4  12.2875        S           0   Mrs  "
      ]
     },
     "execution_count": 50,
     "metadata": {},
     "output_type": "execute_result"
    }
   ],
   "source": [
    "preTest['Title'] = [line.split(\",\")[1].split(\".\")[0][1:] for line in preTest['Name']]\n",
    "preTest.head()"
   ]
  },
  {
   "cell_type": "code",
   "execution_count": 51,
   "metadata": {},
   "outputs": [
    {
     "data": {
      "text/html": [
       "<div>\n",
       "<style scoped>\n",
       "    .dataframe tbody tr th:only-of-type {\n",
       "        vertical-align: middle;\n",
       "    }\n",
       "\n",
       "    .dataframe tbody tr th {\n",
       "        vertical-align: top;\n",
       "    }\n",
       "\n",
       "    .dataframe thead th {\n",
       "        text-align: right;\n",
       "    }\n",
       "</style>\n",
       "<table border=\"1\" class=\"dataframe\">\n",
       "  <thead>\n",
       "    <tr style=\"text-align: right;\">\n",
       "      <th></th>\n",
       "      <th>Pclass</th>\n",
       "      <th>Age</th>\n",
       "      <th>SibSp</th>\n",
       "      <th>Parch</th>\n",
       "      <th>Fare</th>\n",
       "      <th>Embarked</th>\n",
       "      <th>Binary Sex</th>\n",
       "      <th>Title</th>\n",
       "    </tr>\n",
       "  </thead>\n",
       "  <tbody>\n",
       "    <tr>\n",
       "      <th>0</th>\n",
       "      <td>3</td>\n",
       "      <td>34.5</td>\n",
       "      <td>0</td>\n",
       "      <td>0</td>\n",
       "      <td>7.8292</td>\n",
       "      <td>Q</td>\n",
       "      <td>1</td>\n",
       "      <td>Mr</td>\n",
       "    </tr>\n",
       "    <tr>\n",
       "      <th>1</th>\n",
       "      <td>3</td>\n",
       "      <td>47.0</td>\n",
       "      <td>1</td>\n",
       "      <td>0</td>\n",
       "      <td>7.0000</td>\n",
       "      <td>S</td>\n",
       "      <td>0</td>\n",
       "      <td>Mrs</td>\n",
       "    </tr>\n",
       "    <tr>\n",
       "      <th>2</th>\n",
       "      <td>2</td>\n",
       "      <td>62.0</td>\n",
       "      <td>0</td>\n",
       "      <td>0</td>\n",
       "      <td>9.6875</td>\n",
       "      <td>Q</td>\n",
       "      <td>1</td>\n",
       "      <td>Mr</td>\n",
       "    </tr>\n",
       "    <tr>\n",
       "      <th>3</th>\n",
       "      <td>3</td>\n",
       "      <td>27.0</td>\n",
       "      <td>0</td>\n",
       "      <td>0</td>\n",
       "      <td>8.6625</td>\n",
       "      <td>S</td>\n",
       "      <td>1</td>\n",
       "      <td>Mr</td>\n",
       "    </tr>\n",
       "    <tr>\n",
       "      <th>4</th>\n",
       "      <td>3</td>\n",
       "      <td>22.0</td>\n",
       "      <td>1</td>\n",
       "      <td>1</td>\n",
       "      <td>12.2875</td>\n",
       "      <td>S</td>\n",
       "      <td>0</td>\n",
       "      <td>Mrs</td>\n",
       "    </tr>\n",
       "  </tbody>\n",
       "</table>\n",
       "</div>"
      ],
      "text/plain": [
       "   Pclass   Age  SibSp  Parch     Fare Embarked  Binary Sex Title\n",
       "0       3  34.5      0      0   7.8292        Q           1    Mr\n",
       "1       3  47.0      1      0   7.0000        S           0   Mrs\n",
       "2       2  62.0      0      0   9.6875        Q           1    Mr\n",
       "3       3  27.0      0      0   8.6625        S           1    Mr\n",
       "4       3  22.0      1      1  12.2875        S           0   Mrs"
      ]
     },
     "execution_count": 51,
     "metadata": {},
     "output_type": "execute_result"
    }
   ],
   "source": [
    "preTest.drop('Name',axis=1,inplace=True)\n",
    "preTest.head()"
   ]
  },
  {
   "cell_type": "code",
   "execution_count": 52,
   "metadata": {},
   "outputs": [
    {
     "data": {
      "text/plain": [
       "Mr        240\n",
       "Miss       78\n",
       "Mrs        72\n",
       "Master     21\n",
       "Col         2\n",
       "Rev         2\n",
       "Ms          1\n",
       "Dr          1\n",
       "Dona        1\n",
       "Name: Title, dtype: int64"
      ]
     },
     "execution_count": 52,
     "metadata": {},
     "output_type": "execute_result"
    }
   ],
   "source": [
    "preTest['Title'].value_counts()"
   ]
  },
  {
   "cell_type": "code",
   "execution_count": 53,
   "metadata": {},
   "outputs": [],
   "source": [
    "#recategorizing some of the values from Title feature\n",
    "ms = preTest.index[preTest['Title'] == 'Ms'].tolist()\n",
    "for i in ms:\n",
    "    preTest.at[i, 'Title'] = 'Miss'\n",
    "dona = preTest.index[preTest['Title'] == 'Dona'].tolist()\n",
    "for i in dona:\n",
    "    preTest.at[i, 'Title'] = 'Nobility'\n",
    "col = preTest.index[preTest['Title'] == 'Col'].tolist()\n",
    "for i in col:\n",
    "    preTest.at[i, 'Title'] = 'Military'"
   ]
  },
  {
   "cell_type": "code",
   "execution_count": 54,
   "metadata": {
    "scrolled": true
   },
   "outputs": [
    {
     "data": {
      "text/plain": [
       "Mr          240\n",
       "Miss         79\n",
       "Mrs          72\n",
       "Master       21\n",
       "Military      2\n",
       "Rev           2\n",
       "Nobility      1\n",
       "Dr            1\n",
       "Name: Title, dtype: int64"
      ]
     },
     "execution_count": 54,
     "metadata": {},
     "output_type": "execute_result"
    }
   ],
   "source": [
    "preTest['Title'].value_counts()"
   ]
  },
  {
   "cell_type": "code",
   "execution_count": 55,
   "metadata": {
    "scrolled": true
   },
   "outputs": [
    {
     "data": {
      "text/plain": [
       "Pclass         0\n",
       "Age           86\n",
       "SibSp          0\n",
       "Parch          0\n",
       "Fare           1\n",
       "Embarked       0\n",
       "Binary Sex     0\n",
       "Title          0\n",
       "dtype: int64"
      ]
     },
     "execution_count": 55,
     "metadata": {},
     "output_type": "execute_result"
    }
   ],
   "source": [
    "#check the features with null values\n",
    "preTest.isnull().sum()"
   ]
  },
  {
   "cell_type": "code",
   "execution_count": 56,
   "metadata": {},
   "outputs": [],
   "source": [
    "#use the preprocess from the training set\n",
    "readyForTest = preprocess.transform(preTest)"
   ]
  },
  {
   "cell_type": "code",
   "execution_count": 57,
   "metadata": {},
   "outputs": [
    {
     "name": "stdout",
     "output_type": "stream",
     "text": [
      "           0         1    2    3    4    5    6    7    8    9   ...   22  \\\n",
      "0    0.369449 -0.490783  0.0  0.0  1.0  1.0  0.0  0.0  0.0  0.0  ...  0.0   \n",
      "1    1.331378 -0.507479  0.0  0.0  1.0  0.0  1.0  0.0  0.0  0.0  ...  1.0   \n",
      "2    2.485693 -0.453367  0.0  1.0  0.0  1.0  0.0  0.0  0.0  0.0  ...  0.0   \n",
      "3   -0.207709 -0.474005  0.0  0.0  1.0  1.0  0.0  0.0  0.0  0.0  ...  0.0   \n",
      "4   -0.592481 -0.401017  0.0  0.0  1.0  0.0  1.0  0.0  0.0  0.0  ...  1.0   \n",
      "5   -1.208115 -0.462679  0.0  0.0  1.0  1.0  0.0  0.0  0.0  0.0  ...  0.0   \n",
      "6    0.023154 -0.494810  0.0  0.0  1.0  1.0  0.0  0.0  0.0  0.0  ...  1.0   \n",
      "7   -0.284663 -0.064516  0.0  1.0  0.0  0.0  1.0  0.0  0.0  0.0  ...  0.0   \n",
      "8   -0.900298 -0.502864  0.0  0.0  1.0  1.0  0.0  0.0  0.0  0.0  ...  1.0   \n",
      "9   -0.669435 -0.162169  0.0  0.0  1.0  0.0  0.0  1.0  0.0  0.0  ...  0.0   \n",
      "10   0.000000 -0.489442  0.0  0.0  1.0  1.0  0.0  0.0  0.0  0.0  ...  0.0   \n",
      "11   1.254424 -0.124920  1.0  0.0  0.0  1.0  0.0  0.0  0.0  0.0  ...  0.0   \n",
      "12  -0.515526  1.007993  1.0  0.0  0.0  0.0  1.0  0.0  0.0  0.0  ...  1.0   \n",
      "13   2.562648 -0.124920  0.0  1.0  0.0  0.0  1.0  0.0  0.0  0.0  ...  0.0   \n",
      "14   1.331378  0.583318  1.0  0.0  0.0  0.0  1.0  0.0  0.0  0.0  ...  1.0   \n",
      "15  -0.438572 -0.090272  0.0  1.0  0.0  0.0  1.0  0.0  0.0  0.0  ...  1.0   \n",
      "16   0.407926 -0.399758  0.0  1.0  0.0  1.0  0.0  0.0  0.0  0.0  ...  0.0   \n",
      "17  -0.669435 -0.502949  0.0  0.0  1.0  1.0  0.0  0.0  0.0  0.0  ...  0.0   \n",
      "18  -0.207709 -0.488854  0.0  0.0  1.0  0.0  1.0  0.0  0.0  0.0  ...  1.0   \n",
      "19   1.177469 -0.502949  0.0  0.0  1.0  1.0  0.0  0.0  0.0  0.0  ...  1.0   \n",
      "20   1.947013  0.547579  1.0  0.0  0.0  0.0  1.0  0.0  0.0  0.0  ...  0.0   \n",
      "21  -1.592887 -0.584579  0.0  0.0  1.0  1.0  0.0  0.0  0.0  0.0  ...  0.0   \n",
      "22   0.000000 -0.010488  1.0  0.0  0.0  1.0  0.0  0.0  0.0  0.0  ...  1.0   \n",
      "23  -0.669435  0.587429  1.0  0.0  0.0  1.0  0.0  0.0  0.0  0.0  ...  0.0   \n",
      "24   1.408333  4.634417  1.0  0.0  0.0  0.0  1.0  0.0  0.0  0.0  ...  1.0   \n",
      "25   1.562241 -0.356469  0.0  0.0  1.0  0.0  1.0  0.0  0.0  0.0  ...  0.0   \n",
      "26  -0.592481  0.599510  1.0  0.0  0.0  1.0  0.0  0.0  0.0  0.0  ...  1.0   \n",
      "27  -0.554003 -0.502949  0.0  0.0  1.0  1.0  0.0  0.0  0.0  0.0  ...  0.0   \n",
      "28   0.869652 -0.034314  1.0  0.0  0.0  1.0  0.0  0.0  0.0  0.0  ...  0.0   \n",
      "29   0.000000 -0.211918  0.0  0.0  1.0  0.0  0.0  1.0  0.0  0.0  ...  0.0   \n",
      "..        ...       ...  ...  ...  ...  ...  ...  ...  ...  ...  ...  ...   \n",
      "388 -0.669435 -0.492378  0.0  0.0  1.0  1.0  0.0  0.0  0.0  0.0  ...  0.0   \n",
      "389 -1.823750 -0.224083  0.0  0.0  1.0  0.0  0.0  0.0  1.0  0.0  ...  0.0   \n",
      "390 -0.515526  1.234172  1.0  0.0  0.0  1.0  0.0  0.0  0.0  0.0  ...  0.0   \n",
      "391  1.639196  0.144885  1.0  0.0  0.0  1.0  0.0  0.0  0.0  0.0  ...  1.0   \n",
      "392 -1.285070 -0.240694  0.0  0.0  1.0  1.0  0.0  0.0  0.0  0.0  ...  0.0   \n",
      "393  1.331378 -0.437007  0.0  1.0  0.0  1.0  0.0  0.0  0.0  0.0  ...  0.0   \n",
      "394 -0.053800 -0.204955  0.0  0.0  1.0  0.0  0.0  0.0  1.0  0.0  ...  0.0   \n",
      "395 -0.900298  0.559660  1.0  0.0  0.0  0.0  1.0  0.0  0.0  0.0  ...  1.0   \n",
      "396 -0.438572 -0.502445  0.0  0.0  1.0  1.0  0.0  0.0  0.0  0.0  ...  0.0   \n",
      "397  1.408333  0.946246  1.0  0.0  0.0  0.0  1.0  0.0  0.0  0.0  ...  1.0   \n",
      "398 -0.592481 -0.491874  0.0  0.0  1.0  1.0  0.0  0.0  0.0  0.0  ...  0.0   \n",
      "399  0.100109 -0.492714  0.0  0.0  1.0  1.0  0.0  0.0  0.0  0.0  ...  0.0   \n",
      "400  0.023154  2.671118  1.0  0.0  0.0  1.0  0.0  0.0  0.0  0.0  ...  1.0   \n",
      "401  0.638789 -0.225593  0.0  1.0  0.0  0.0  1.0  0.0  0.0  0.0  ...  0.0   \n",
      "402 -0.592481  0.547579  1.0  0.0  0.0  1.0  0.0  0.0  0.0  0.0  ...  1.0   \n",
      "403 -0.977252  0.299922  1.0  0.0  0.0  1.0  0.0  0.0  0.0  0.0  ...  0.0   \n",
      "404  1.023561 -0.090272  1.0  0.0  0.0  0.0  1.0  0.0  0.0  0.0  ...  0.0   \n",
      "405 -0.746389 -0.369305  0.0  1.0  0.0  1.0  0.0  0.0  0.0  0.0  ...  0.0   \n",
      "406 -0.515526 -0.437007  0.0  1.0  0.0  0.0  1.0  0.0  0.0  0.0  ...  0.0   \n",
      "407  1.562241  3.610065  1.0  0.0  0.0  0.0  1.0  0.0  0.0  0.0  ...  0.0   \n",
      "408  0.000000 -0.492966  0.0  0.0  1.0  1.0  0.0  0.0  0.0  0.0  ...  1.0   \n",
      "409 -2.054613 -0.371066  0.0  0.0  1.0  0.0  1.0  0.0  0.0  0.0  ...  1.0   \n",
      "410  0.000000 -0.492378  0.0  0.0  1.0  1.0  0.0  0.0  0.0  0.0  ...  1.0   \n",
      "411  0.561835  1.163700  1.0  0.0  0.0  0.0  1.0  0.0  0.0  0.0  ...  1.0   \n",
      "412 -0.130754 -0.491874  0.0  0.0  1.0  1.0  0.0  0.0  0.0  0.0  ...  1.0   \n",
      "413  0.000000 -0.486337  0.0  0.0  1.0  1.0  0.0  0.0  0.0  0.0  ...  0.0   \n",
      "414  0.715743  1.544246  1.0  0.0  0.0  1.0  0.0  0.0  0.0  0.0  ...  1.0   \n",
      "415  0.677266 -0.502445  0.0  0.0  1.0  1.0  0.0  0.0  0.0  0.0  ...  0.0   \n",
      "416  0.000000 -0.486337  0.0  0.0  1.0  1.0  0.0  0.0  0.0  0.0  ...  0.0   \n",
      "417  0.000000 -0.198244  0.0  0.0  1.0  0.0  1.0  0.0  0.0  0.0  ...  0.0   \n",
      "\n",
      "      23   24   25   26   27   28   29   30   31  \n",
      "0    1.0  0.0  0.0  0.0  0.0  1.0  0.0  0.0  0.0  \n",
      "1    0.0  0.0  0.0  0.0  0.0  0.0  1.0  0.0  0.0  \n",
      "2    1.0  0.0  0.0  0.0  0.0  1.0  0.0  0.0  0.0  \n",
      "3    1.0  0.0  0.0  0.0  0.0  1.0  0.0  0.0  0.0  \n",
      "4    0.0  0.0  0.0  0.0  0.0  0.0  1.0  0.0  0.0  \n",
      "5    1.0  0.0  0.0  0.0  0.0  1.0  0.0  0.0  0.0  \n",
      "6    0.0  0.0  0.0  0.0  1.0  0.0  0.0  0.0  0.0  \n",
      "7    1.0  0.0  0.0  0.0  0.0  1.0  0.0  0.0  0.0  \n",
      "8    0.0  0.0  0.0  0.0  0.0  0.0  1.0  0.0  0.0  \n",
      "9    1.0  0.0  0.0  0.0  0.0  1.0  0.0  0.0  0.0  \n",
      "10   1.0  0.0  0.0  0.0  0.0  1.0  0.0  0.0  0.0  \n",
      "11   1.0  0.0  0.0  0.0  0.0  1.0  0.0  0.0  0.0  \n",
      "12   0.0  0.0  0.0  0.0  0.0  0.0  1.0  0.0  0.0  \n",
      "13   1.0  0.0  0.0  0.0  0.0  1.0  0.0  0.0  0.0  \n",
      "14   0.0  0.0  0.0  0.0  0.0  0.0  1.0  0.0  0.0  \n",
      "15   0.0  0.0  0.0  0.0  0.0  0.0  1.0  0.0  0.0  \n",
      "16   1.0  0.0  0.0  0.0  0.0  1.0  0.0  0.0  0.0  \n",
      "17   1.0  0.0  0.0  0.0  0.0  1.0  0.0  0.0  0.0  \n",
      "18   0.0  0.0  0.0  0.0  1.0  0.0  0.0  0.0  0.0  \n",
      "19   0.0  0.0  0.0  0.0  0.0  0.0  1.0  0.0  0.0  \n",
      "20   1.0  0.0  0.0  0.0  0.0  1.0  0.0  0.0  0.0  \n",
      "21   1.0  0.0  1.0  0.0  0.0  0.0  0.0  0.0  0.0  \n",
      "22   0.0  0.0  0.0  0.0  0.0  0.0  1.0  0.0  0.0  \n",
      "23   1.0  0.0  0.0  0.0  0.0  1.0  0.0  0.0  0.0  \n",
      "24   0.0  0.0  0.0  0.0  0.0  0.0  1.0  0.0  0.0  \n",
      "25   1.0  0.0  0.0  0.0  0.0  1.0  0.0  0.0  0.0  \n",
      "26   0.0  0.0  0.0  0.0  1.0  0.0  0.0  0.0  0.0  \n",
      "27   1.0  0.0  0.0  0.0  0.0  1.0  0.0  0.0  0.0  \n",
      "28   1.0  0.0  0.0  0.0  0.0  1.0  0.0  0.0  0.0  \n",
      "29   1.0  0.0  0.0  0.0  0.0  1.0  0.0  0.0  0.0  \n",
      "..   ...  ...  ...  ...  ...  ...  ...  ...  ...  \n",
      "388  1.0  0.0  0.0  0.0  0.0  1.0  0.0  0.0  0.0  \n",
      "389  1.0  0.0  1.0  0.0  0.0  0.0  0.0  0.0  0.0  \n",
      "390  1.0  0.0  0.0  0.0  0.0  1.0  0.0  0.0  0.0  \n",
      "391  0.0  0.0  0.0  0.0  0.0  0.0  1.0  0.0  0.0  \n",
      "392  1.0  0.0  1.0  0.0  0.0  0.0  0.0  0.0  0.0  \n",
      "393  1.0  0.0  0.0  0.0  0.0  1.0  0.0  0.0  0.0  \n",
      "394  1.0  0.0  0.0  0.0  0.0  1.0  0.0  0.0  0.0  \n",
      "395  0.0  0.0  0.0  0.0  0.0  0.0  1.0  0.0  0.0  \n",
      "396  1.0  0.0  0.0  0.0  0.0  1.0  0.0  0.0  0.0  \n",
      "397  0.0  0.0  0.0  0.0  0.0  0.0  1.0  0.0  0.0  \n",
      "398  1.0  0.0  0.0  0.0  0.0  1.0  0.0  0.0  0.0  \n",
      "399  1.0  0.0  0.0  0.0  0.0  1.0  0.0  0.0  0.0  \n",
      "400  0.0  0.0  0.0  0.0  1.0  0.0  0.0  0.0  0.0  \n",
      "401  1.0  0.0  0.0  0.0  0.0  1.0  0.0  0.0  0.0  \n",
      "402  0.0  0.0  0.0  0.0  1.0  0.0  0.0  0.0  0.0  \n",
      "403  1.0  0.0  0.0  0.0  0.0  1.0  0.0  0.0  0.0  \n",
      "404  1.0  0.0  0.0  0.0  0.0  1.0  0.0  0.0  0.0  \n",
      "405  1.0  0.0  0.0  0.0  0.0  1.0  0.0  0.0  0.0  \n",
      "406  1.0  0.0  0.0  0.0  0.0  1.0  0.0  0.0  0.0  \n",
      "407  1.0  0.0  0.0  0.0  0.0  1.0  0.0  0.0  0.0  \n",
      "408  0.0  0.0  0.0  0.0  1.0  0.0  0.0  0.0  0.0  \n",
      "409  0.0  0.0  0.0  0.0  1.0  0.0  0.0  0.0  0.0  \n",
      "410  0.0  0.0  0.0  0.0  1.0  0.0  0.0  0.0  0.0  \n",
      "411  0.0  0.0  0.0  0.0  0.0  0.0  1.0  0.0  0.0  \n",
      "412  0.0  0.0  0.0  0.0  1.0  0.0  0.0  0.0  0.0  \n",
      "413  1.0  0.0  0.0  0.0  0.0  1.0  0.0  0.0  0.0  \n",
      "414  0.0  0.0  0.0  0.0  0.0  0.0  0.0  1.0  0.0  \n",
      "415  1.0  0.0  0.0  0.0  0.0  1.0  0.0  0.0  0.0  \n",
      "416  1.0  0.0  0.0  0.0  0.0  1.0  0.0  0.0  0.0  \n",
      "417  1.0  0.0  1.0  0.0  0.0  0.0  0.0  0.0  0.0  \n",
      "\n",
      "[418 rows x 32 columns]\n"
     ]
    }
   ],
   "source": [
    "#create a DataFrame from a sparse matrix\n",
    "testDf = pd.DataFrame(readyForTest.todense())\n",
    "print(testDf)"
   ]
  },
  {
   "cell_type": "code",
   "execution_count": 58,
   "metadata": {},
   "outputs": [
    {
     "data": {
      "text/plain": [
       "(418, 32)"
      ]
     },
     "execution_count": 58,
     "metadata": {},
     "output_type": "execute_result"
    }
   ],
   "source": [
    "#check the shape of the test Dataframe\n",
    "testDf.shape"
   ]
  },
  {
   "cell_type": "markdown",
   "metadata": {},
   "source": [
    "# Build L2 Regularization Neural Network"
   ]
  },
  {
   "cell_type": "code",
   "execution_count": 59,
   "metadata": {},
   "outputs": [
    {
     "name": "stderr",
     "output_type": "stream",
     "text": [
      "WARNING: Logging before flag parsing goes to stderr.\n",
      "W0822 11:32:54.384267 4649268672 deprecation.py:506] From /anaconda3/lib/python3.7/site-packages/tensorflow/python/ops/init_ops.py:1251: calling VarianceScaling.__init__ (from tensorflow.python.ops.init_ops) with dtype is deprecated and will be removed in a future version.\n",
      "Instructions for updating:\n",
      "Call initializer instance with the dtype argument instead of passing it to the constructor\n"
     ]
    }
   ],
   "source": [
    "#Building a neural network model using keras where the first three layers have 128, 64, and 32 nodes, respectively, \n",
    "#using a relu activation function and different L2 regularization values.\n",
    "#Output layer is a single node using the sigmoid activation function in order to classify Titanic passengers\n",
    "#as survived or did not survive.\n",
    "model = keras.Sequential([\n",
    "    keras.layers.Dense(128, kernel_regularizer=keras.regularizers.l2(0.1),\n",
    "                       input_dim = X_train.shape[1], activation=tf.nn.relu),\n",
    "    keras.layers.Dense(64, kernel_regularizer=keras.regularizers.l2(0.15), activation=tf.nn.relu),\n",
    "    keras.layers.Dense(32, activation=tf.nn.relu),\n",
    "    keras.layers.Dense(1, activation='sigmoid')\n",
    "])"
   ]
  },
  {
   "cell_type": "code",
   "execution_count": 60,
   "metadata": {},
   "outputs": [
    {
     "name": "stderr",
     "output_type": "stream",
     "text": [
      "W0822 11:34:57.360348 4649268672 deprecation.py:323] From /anaconda3/lib/python3.7/site-packages/tensorflow/python/ops/nn_impl.py:180: add_dispatch_support.<locals>.wrapper (from tensorflow.python.ops.array_ops) is deprecated and will be removed in a future version.\n",
      "Instructions for updating:\n",
      "Use tf.where in 2.0, which has the same broadcast rule as np.where\n"
     ]
    }
   ],
   "source": [
    "#Compiling model based on accuracy using the adam optimizer for training.\n",
    "#Cross-entropy loss measures the performance of a classification model whose output is a \n",
    "#probability value between 0 and 1. Cross-entropy loss increases as the predicted probability \n",
    "#diverges from the actual label (https://ml-cheatsheet.readthedocs.io/en/latest/loss_functions.html)\n",
    "model.compile(optimizer='adam',\n",
    "              loss='binary_crossentropy',\n",
    "              metrics=['accuracy'])"
   ]
  },
  {
   "cell_type": "code",
   "execution_count": 61,
   "metadata": {},
   "outputs": [
    {
     "name": "stdout",
     "output_type": "stream",
     "text": [
      "Train on 668 samples, validate on 223 samples\n",
      "Epoch 1/80\n",
      "668/668 [==============================] - 0s 344us/sample - loss: 15.9334 - acc: 0.7081 - val_loss: 13.1477 - val_acc: 0.7489\n",
      "Epoch 2/80\n",
      "668/668 [==============================] - 0s 53us/sample - loss: 11.1205 - acc: 0.7740 - val_loss: 9.1071 - val_acc: 0.8027\n",
      "Epoch 3/80\n",
      "668/668 [==============================] - 0s 53us/sample - loss: 7.6771 - acc: 0.8054 - val_loss: 6.2706 - val_acc: 0.8027\n",
      "Epoch 4/80\n",
      "668/668 [==============================] - 0s 58us/sample - loss: 5.2811 - acc: 0.8099 - val_loss: 4.3213 - val_acc: 0.7803\n",
      "Epoch 5/80\n",
      "668/668 [==============================] - 0s 53us/sample - loss: 3.6397 - acc: 0.8114 - val_loss: 2.9897 - val_acc: 0.8072\n",
      "Epoch 6/80\n",
      "668/668 [==============================] - 0s 51us/sample - loss: 2.5299 - acc: 0.8174 - val_loss: 2.0946 - val_acc: 0.7892\n",
      "Epoch 7/80\n",
      "668/668 [==============================] - 0s 52us/sample - loss: 1.7900 - acc: 0.8234 - val_loss: 1.5060 - val_acc: 0.7892\n",
      "Epoch 8/80\n",
      "668/668 [==============================] - 0s 51us/sample - loss: 1.3083 - acc: 0.8069 - val_loss: 1.1228 - val_acc: 0.7892\n",
      "Epoch 9/80\n",
      "668/668 [==============================] - 0s 54us/sample - loss: 0.9972 - acc: 0.8189 - val_loss: 0.8811 - val_acc: 0.7892\n",
      "Epoch 10/80\n",
      "668/668 [==============================] - 0s 48us/sample - loss: 0.7976 - acc: 0.8129 - val_loss: 0.7280 - val_acc: 0.7892\n",
      "Epoch 11/80\n",
      "668/668 [==============================] - 0s 48us/sample - loss: 0.6753 - acc: 0.8129 - val_loss: 0.6415 - val_acc: 0.8072\n",
      "Epoch 12/80\n",
      "668/668 [==============================] - 0s 51us/sample - loss: 0.6039 - acc: 0.8144 - val_loss: 0.5753 - val_acc: 0.8161\n",
      "Epoch 13/80\n",
      "668/668 [==============================] - 0s 45us/sample - loss: 0.5540 - acc: 0.8204 - val_loss: 0.5404 - val_acc: 0.8027\n",
      "Epoch 14/80\n",
      "668/668 [==============================] - 0s 49us/sample - loss: 0.5254 - acc: 0.8278 - val_loss: 0.5410 - val_acc: 0.7668\n",
      "Epoch 15/80\n",
      "668/668 [==============================] - 0s 47us/sample - loss: 0.5149 - acc: 0.8159 - val_loss: 0.5195 - val_acc: 0.8161\n",
      "Epoch 16/80\n",
      "668/668 [==============================] - 0s 51us/sample - loss: 0.4987 - acc: 0.8234 - val_loss: 0.5057 - val_acc: 0.7892\n",
      "Epoch 17/80\n",
      "668/668 [==============================] - 0s 42us/sample - loss: 0.4954 - acc: 0.8219 - val_loss: 0.4989 - val_acc: 0.8072\n",
      "Epoch 18/80\n",
      "668/668 [==============================] - 0s 44us/sample - loss: 0.4887 - acc: 0.8249 - val_loss: 0.4975 - val_acc: 0.8072\n",
      "Epoch 19/80\n",
      "668/668 [==============================] - 0s 52us/sample - loss: 0.4830 - acc: 0.8234 - val_loss: 0.4958 - val_acc: 0.8206\n",
      "Epoch 20/80\n",
      "668/668 [==============================] - 0s 46us/sample - loss: 0.4836 - acc: 0.8189 - val_loss: 0.4839 - val_acc: 0.8072\n",
      "Epoch 21/80\n",
      "668/668 [==============================] - 0s 48us/sample - loss: 0.4805 - acc: 0.8278 - val_loss: 0.5082 - val_acc: 0.7848\n",
      "Epoch 22/80\n",
      "668/668 [==============================] - 0s 43us/sample - loss: 0.4954 - acc: 0.8129 - val_loss: 0.4895 - val_acc: 0.7892\n",
      "Epoch 23/80\n",
      "668/668 [==============================] - 0s 48us/sample - loss: 0.4733 - acc: 0.8293 - val_loss: 0.4959 - val_acc: 0.7982\n",
      "Epoch 24/80\n",
      "668/668 [==============================] - 0s 44us/sample - loss: 0.4870 - acc: 0.8263 - val_loss: 0.4874 - val_acc: 0.8072\n",
      "Epoch 25/80\n",
      "668/668 [==============================] - 0s 46us/sample - loss: 0.4843 - acc: 0.8219 - val_loss: 0.4860 - val_acc: 0.7848\n",
      "Epoch 26/80\n",
      "668/668 [==============================] - 0s 50us/sample - loss: 0.4769 - acc: 0.8293 - val_loss: 0.4868 - val_acc: 0.7982\n",
      "Epoch 27/80\n",
      "668/668 [==============================] - 0s 49us/sample - loss: 0.4762 - acc: 0.8293 - val_loss: 0.4826 - val_acc: 0.8161\n",
      "Epoch 28/80\n",
      "668/668 [==============================] - 0s 50us/sample - loss: 0.4715 - acc: 0.8308 - val_loss: 0.4825 - val_acc: 0.7982\n",
      "Epoch 29/80\n",
      "668/668 [==============================] - 0s 48us/sample - loss: 0.4691 - acc: 0.8293 - val_loss: 0.4742 - val_acc: 0.8027\n",
      "Epoch 30/80\n",
      "668/668 [==============================] - 0s 49us/sample - loss: 0.4713 - acc: 0.8278 - val_loss: 0.4803 - val_acc: 0.7982\n",
      "Epoch 31/80\n",
      "668/668 [==============================] - 0s 49us/sample - loss: 0.4677 - acc: 0.8219 - val_loss: 0.4736 - val_acc: 0.8251\n",
      "Epoch 32/80\n",
      "668/668 [==============================] - 0s 47us/sample - loss: 0.4646 - acc: 0.8368 - val_loss: 0.4852 - val_acc: 0.7892\n",
      "Epoch 33/80\n",
      "668/668 [==============================] - 0s 44us/sample - loss: 0.4752 - acc: 0.8129 - val_loss: 0.4719 - val_acc: 0.8117\n",
      "Epoch 34/80\n",
      "668/668 [==============================] - 0s 44us/sample - loss: 0.4670 - acc: 0.8263 - val_loss: 0.4800 - val_acc: 0.8117\n",
      "Epoch 35/80\n",
      "668/668 [==============================] - 0s 45us/sample - loss: 0.4650 - acc: 0.8293 - val_loss: 0.4757 - val_acc: 0.7848\n",
      "Epoch 36/80\n",
      "668/668 [==============================] - 0s 44us/sample - loss: 0.4636 - acc: 0.8263 - val_loss: 0.4811 - val_acc: 0.7982\n",
      "Epoch 37/80\n",
      "668/668 [==============================] - 0s 46us/sample - loss: 0.4594 - acc: 0.8338 - val_loss: 0.4746 - val_acc: 0.8161\n",
      "Epoch 38/80\n",
      "668/668 [==============================] - 0s 52us/sample - loss: 0.4629 - acc: 0.8278 - val_loss: 0.4724 - val_acc: 0.7892\n",
      "Epoch 39/80\n",
      "668/668 [==============================] - 0s 43us/sample - loss: 0.4639 - acc: 0.8234 - val_loss: 0.4763 - val_acc: 0.7848\n",
      "Epoch 40/80\n",
      "668/668 [==============================] - 0s 49us/sample - loss: 0.4681 - acc: 0.8159 - val_loss: 0.4682 - val_acc: 0.8161\n",
      "Epoch 41/80\n",
      "668/668 [==============================] - 0s 57us/sample - loss: 0.4661 - acc: 0.8234 - val_loss: 0.4853 - val_acc: 0.7937\n",
      "Epoch 42/80\n",
      "668/668 [==============================] - 0s 58us/sample - loss: 0.4649 - acc: 0.8174 - val_loss: 0.4802 - val_acc: 0.7937\n",
      "Epoch 43/80\n",
      "668/668 [==============================] - 0s 48us/sample - loss: 0.4614 - acc: 0.8278 - val_loss: 0.4758 - val_acc: 0.7937\n",
      "Epoch 44/80\n",
      "668/668 [==============================] - 0s 48us/sample - loss: 0.4533 - acc: 0.8278 - val_loss: 0.4849 - val_acc: 0.7803\n",
      "Epoch 45/80\n",
      "668/668 [==============================] - 0s 50us/sample - loss: 0.4624 - acc: 0.8353 - val_loss: 0.4794 - val_acc: 0.7892\n",
      "Epoch 46/80\n",
      "668/668 [==============================] - 0s 49us/sample - loss: 0.4598 - acc: 0.8413 - val_loss: 0.4752 - val_acc: 0.8117\n",
      "Epoch 47/80\n",
      "668/668 [==============================] - 0s 47us/sample - loss: 0.4574 - acc: 0.8204 - val_loss: 0.4729 - val_acc: 0.8072\n",
      "Epoch 48/80\n",
      "668/668 [==============================] - 0s 48us/sample - loss: 0.4691 - acc: 0.8204 - val_loss: 0.4862 - val_acc: 0.7982\n",
      "Epoch 49/80\n",
      "668/668 [==============================] - 0s 46us/sample - loss: 0.4637 - acc: 0.8249 - val_loss: 0.4943 - val_acc: 0.8027\n",
      "Epoch 50/80\n",
      "668/668 [==============================] - 0s 47us/sample - loss: 0.4560 - acc: 0.8293 - val_loss: 0.4744 - val_acc: 0.8027\n",
      "Epoch 51/80\n",
      "668/668 [==============================] - 0s 46us/sample - loss: 0.4527 - acc: 0.8323 - val_loss: 0.4651 - val_acc: 0.8161\n",
      "Epoch 52/80\n",
      "668/668 [==============================] - 0s 46us/sample - loss: 0.4542 - acc: 0.8293 - val_loss: 0.4716 - val_acc: 0.8161\n",
      "Epoch 53/80\n",
      "668/668 [==============================] - 0s 45us/sample - loss: 0.4550 - acc: 0.8353 - val_loss: 0.4744 - val_acc: 0.7937\n",
      "Epoch 54/80\n",
      "668/668 [==============================] - 0s 49us/sample - loss: 0.4500 - acc: 0.8413 - val_loss: 0.4684 - val_acc: 0.8117\n",
      "Epoch 55/80\n",
      "668/668 [==============================] - 0s 46us/sample - loss: 0.4488 - acc: 0.8353 - val_loss: 0.4751 - val_acc: 0.7982\n",
      "Epoch 56/80\n",
      "668/668 [==============================] - 0s 48us/sample - loss: 0.4467 - acc: 0.8398 - val_loss: 0.4752 - val_acc: 0.7892\n",
      "Epoch 57/80\n",
      "668/668 [==============================] - 0s 46us/sample - loss: 0.4483 - acc: 0.8263 - val_loss: 0.4740 - val_acc: 0.8072\n",
      "Epoch 58/80\n",
      "668/668 [==============================] - 0s 45us/sample - loss: 0.4486 - acc: 0.8278 - val_loss: 0.4627 - val_acc: 0.8161\n",
      "Epoch 59/80\n",
      "668/668 [==============================] - 0s 46us/sample - loss: 0.4524 - acc: 0.8249 - val_loss: 0.4840 - val_acc: 0.7982\n",
      "Epoch 60/80\n",
      "668/668 [==============================] - 0s 46us/sample - loss: 0.4528 - acc: 0.8368 - val_loss: 0.4740 - val_acc: 0.7892\n"
     ]
    },
    {
     "name": "stdout",
     "output_type": "stream",
     "text": [
      "Epoch 61/80\n",
      "668/668 [==============================] - 0s 47us/sample - loss: 0.4588 - acc: 0.8293 - val_loss: 0.4713 - val_acc: 0.7892\n",
      "Epoch 62/80\n",
      "668/668 [==============================] - 0s 47us/sample - loss: 0.4492 - acc: 0.8338 - val_loss: 0.4654 - val_acc: 0.8161\n",
      "Epoch 63/80\n",
      "668/668 [==============================] - 0s 44us/sample - loss: 0.4444 - acc: 0.8323 - val_loss: 0.4815 - val_acc: 0.7848\n",
      "Epoch 64/80\n",
      "668/668 [==============================] - 0s 42us/sample - loss: 0.4582 - acc: 0.8174 - val_loss: 0.4830 - val_acc: 0.7713\n",
      "Epoch 65/80\n",
      "668/668 [==============================] - 0s 44us/sample - loss: 0.4585 - acc: 0.8114 - val_loss: 0.4732 - val_acc: 0.8117\n",
      "Epoch 66/80\n",
      "668/668 [==============================] - 0s 45us/sample - loss: 0.4429 - acc: 0.8413 - val_loss: 0.4647 - val_acc: 0.8206\n",
      "Epoch 67/80\n",
      "668/668 [==============================] - 0s 48us/sample - loss: 0.4396 - acc: 0.8353 - val_loss: 0.5154 - val_acc: 0.8072\n",
      "Epoch 68/80\n",
      "668/668 [==============================] - 0s 49us/sample - loss: 0.4617 - acc: 0.8338 - val_loss: 0.4846 - val_acc: 0.7892\n",
      "Epoch 69/80\n",
      "668/668 [==============================] - 0s 49us/sample - loss: 0.4397 - acc: 0.8413 - val_loss: 0.4665 - val_acc: 0.8072\n",
      "Epoch 70/80\n",
      "668/668 [==============================] - 0s 51us/sample - loss: 0.4527 - acc: 0.8413 - val_loss: 0.5113 - val_acc: 0.7848\n",
      "Epoch 71/80\n",
      "668/668 [==============================] - 0s 49us/sample - loss: 0.4571 - acc: 0.8263 - val_loss: 0.4823 - val_acc: 0.7892\n",
      "Epoch 72/80\n",
      "668/668 [==============================] - 0s 50us/sample - loss: 0.4415 - acc: 0.8353 - val_loss: 0.4674 - val_acc: 0.8206\n",
      "Epoch 73/80\n",
      "668/668 [==============================] - 0s 48us/sample - loss: 0.4417 - acc: 0.8383 - val_loss: 0.4612 - val_acc: 0.8161\n",
      "Epoch 74/80\n",
      "668/668 [==============================] - 0s 48us/sample - loss: 0.4377 - acc: 0.8398 - val_loss: 0.4758 - val_acc: 0.7892\n",
      "Epoch 75/80\n",
      "668/668 [==============================] - 0s 49us/sample - loss: 0.4460 - acc: 0.8293 - val_loss: 0.4678 - val_acc: 0.8072\n",
      "Epoch 76/80\n",
      "668/668 [==============================] - 0s 46us/sample - loss: 0.4421 - acc: 0.8383 - val_loss: 0.4613 - val_acc: 0.8161\n",
      "Epoch 77/80\n",
      "668/668 [==============================] - 0s 48us/sample - loss: 0.4376 - acc: 0.8368 - val_loss: 0.4605 - val_acc: 0.7982\n",
      "Epoch 78/80\n",
      "668/668 [==============================] - 0s 45us/sample - loss: 0.4369 - acc: 0.8353 - val_loss: 0.4626 - val_acc: 0.8117\n",
      "Epoch 79/80\n",
      "668/668 [==============================] - 0s 47us/sample - loss: 0.4380 - acc: 0.8308 - val_loss: 0.4790 - val_acc: 0.7892\n",
      "Epoch 80/80\n",
      "668/668 [==============================] - 0s 46us/sample - loss: 0.4378 - acc: 0.8338 - val_loss: 0.4682 - val_acc: 0.8072\n"
     ]
    }
   ],
   "source": [
    "#trains the model for 80 epochs, validating on the independent/dependent validation sets\n",
    "history = model.fit(X_train,Y_train, batch_size=None, epochs=80, validation_data=(X_val, Y_val), verbose=1)"
   ]
  },
  {
   "cell_type": "code",
   "execution_count": 62,
   "metadata": {},
   "outputs": [
    {
     "data": {
      "text/plain": [
       "dict_keys(['loss', 'acc', 'val_loss', 'val_acc'])"
      ]
     },
     "execution_count": 62,
     "metadata": {},
     "output_type": "execute_result"
    }
   ],
   "source": [
    "#grabbing the record of training/validation loss values and metrics values at successive epochs\n",
    "history_dict = history.history\n",
    "history_dict.keys()"
   ]
  },
  {
   "cell_type": "code",
   "execution_count": 63,
   "metadata": {},
   "outputs": [],
   "source": [
    "#grabbing the dictionary keys and putting them into variables\n",
    "acc = history_dict['acc']\n",
    "val_acc = history_dict['val_acc']\n",
    "loss = history_dict['loss']\n",
    "val_loss = history_dict['val_loss']\n",
    "\n",
    "#number of epochs\n",
    "epochs = range(1, len(acc) + 1)"
   ]
  },
  {
   "cell_type": "code",
   "execution_count": 64,
   "metadata": {},
   "outputs": [
    {
     "data": {
      "image/png": "[encoded data removed]",
      "text/plain": [
       "<Figure size 432x288 with 1 Axes>"
      ]
     },
     "metadata": {
      "needs_background": "light"
     },
     "output_type": "display_data"
    }
   ],
   "source": [
    "#plotting the training and validation loss for each epoch\n",
    "\n",
    "# \"bo\" is for \"blue dot\"\n",
    "plt.plot(epochs, loss, 'bo', label='Training loss')\n",
    "# b is for \"solid blue line\"\n",
    "plt.plot(epochs, val_loss, 'b', label='Validation loss')\n",
    "plt.title('Training and validation loss')\n",
    "plt.xlabel('Epochs')\n",
    "plt.ylabel('Loss')\n",
    "plt.legend()\n",
    "\n",
    "plt.show()"
   ]
  },
  {
   "cell_type": "code",
   "execution_count": 65,
   "metadata": {},
   "outputs": [
    {
     "data": {
      "image/png": "[encoded data removed]",
      "text/plain": [
       "<Figure size 432x288 with 1 Axes>"
      ]
     },
     "metadata": {
      "needs_background": "light"
     },
     "output_type": "display_data"
    }
   ],
   "source": [
    "plt.clf()   # clear figure\n",
    "\n",
    "#plotting the training and validation accuracy for each epoch\n",
    "\n",
    "plt.plot(epochs, acc, 'bo', label='Training acc')\n",
    "plt.plot(epochs, val_acc, 'b', label='Validation acc')\n",
    "plt.title('Training and validation accuracy')\n",
    "plt.xlabel('Epochs')\n",
    "plt.ylabel('Accuracy')\n",
    "plt.legend()\n",
    "\n",
    "plt.show()"
   ]
  },
  {
   "cell_type": "markdown",
   "metadata": {},
   "source": [
    "# Prediction for L2 Regularization Neural Network"
   ]
  },
  {
   "cell_type": "code",
   "execution_count": 66,
   "metadata": {},
   "outputs": [],
   "source": [
    "#generates output predictions of survived or did not survive for each Titanic passenger in the test DataFrame\n",
    "prediction = model.predict_classes(testDf)"
   ]
  },
  {
   "cell_type": "code",
   "execution_count": 67,
   "metadata": {},
   "outputs": [
    {
     "data": {
      "text/plain": [
       "(418, 1)"
      ]
     },
     "execution_count": 67,
     "metadata": {},
     "output_type": "execute_result"
    }
   ],
   "source": [
    "#check shape of prediction DataFrame\n",
    "prediction.shape"
   ]
  },
  {
   "cell_type": "code",
   "execution_count": 68,
   "metadata": {},
   "outputs": [],
   "source": [
    "#prepare for Kaggle submission\n",
    "testFinal = testData[['PassengerId']]\n",
    "testFinal['Survived'] = prediction"
   ]
  },
  {
   "cell_type": "code",
   "execution_count": 69,
   "metadata": {},
   "outputs": [],
   "source": [
    "#exporting to csv file for Kaggle submission\n",
    "testFinal.to_csv('2019TitanicNeuralNetwork.csv', index = False)\n",
    "#score with regularization 0.79904 (correct Survival prediction of 79.904%)"
   ]
  },
  {
   "cell_type": "markdown",
   "metadata": {},
   "source": [
    "# Build Dropout Regularization Neural Network"
   ]
  },
  {
   "cell_type": "code",
   "execution_count": 70,
   "metadata": {},
   "outputs": [],
   "source": [
    "#Building a neural network model using keras where the first three layers have 128, 64, and 32 nodes, respectively, \n",
    "#using a relu activation function and a dropout of 0.5.\n",
    "#Output layer is a single node using the sigmoid activation function in order to classify Titanic passengers\n",
    "#as survived or did not survive.\n",
    "model = keras.Sequential([\n",
    "    keras.layers.Dense(128,input_dim = X_train.shape[1], activation=tf.nn.relu),\n",
    "    keras.layers.Dropout(0.5),\n",
    "    keras.layers.Dense(64, activation=tf.nn.relu),\n",
    "    keras.layers.Dropout(0.5),\n",
    "    keras.layers.Dense(32, activation=tf.nn.relu),\n",
    "    keras.layers.Dropout(0.5),\n",
    "    keras.layers.Dense(1, activation='sigmoid')\n",
    "])"
   ]
  },
  {
   "cell_type": "code",
   "execution_count": 71,
   "metadata": {},
   "outputs": [],
   "source": [
    "#Compiling model based on accuracy using the adam optimizer for training.\n",
    "#Cross-entropy loss measures the performance of a classification model whose output is a \n",
    "#probability value between 0 and 1. Cross-entropy loss increases as the predicted probability \n",
    "#diverges from the actual label (https://ml-cheatsheet.readthedocs.io/en/latest/loss_functions.html)\n",
    "model.compile(optimizer='adam',\n",
    "              loss='binary_crossentropy',\n",
    "              metrics=['accuracy'])"
   ]
  },
  {
   "cell_type": "code",
   "execution_count": 72,
   "metadata": {},
   "outputs": [
    {
     "name": "stdout",
     "output_type": "stream",
     "text": [
      "Train on 668 samples, validate on 223 samples\n",
      "Epoch 1/80\n",
      "668/668 [==============================] - 0s 392us/sample - loss: 0.7489 - acc: 0.4386 - val_loss: 0.6622 - val_acc: 0.7354\n",
      "Epoch 2/80\n",
      "668/668 [==============================] - 0s 24us/sample - loss: 0.6930 - acc: 0.5269 - val_loss: 0.6386 - val_acc: 0.6771\n",
      "Epoch 3/80\n",
      "668/668 [==============================] - 0s 22us/sample - loss: 0.6685 - acc: 0.6063 - val_loss: 0.6198 - val_acc: 0.6726\n",
      "Epoch 4/80\n",
      "668/668 [==============================] - 0s 22us/sample - loss: 0.6388 - acc: 0.6228 - val_loss: 0.6012 - val_acc: 0.6771\n",
      "Epoch 5/80\n",
      "668/668 [==============================] - 0s 26us/sample - loss: 0.6197 - acc: 0.6722 - val_loss: 0.5827 - val_acc: 0.7085\n",
      "Epoch 6/80\n",
      "668/668 [==============================] - 0s 24us/sample - loss: 0.6216 - acc: 0.6692 - val_loss: 0.5639 - val_acc: 0.7354\n",
      "Epoch 7/80\n",
      "668/668 [==============================] - 0s 23us/sample - loss: 0.5905 - acc: 0.6901 - val_loss: 0.5450 - val_acc: 0.7668\n",
      "Epoch 8/80\n",
      "668/668 [==============================] - 0s 28us/sample - loss: 0.5644 - acc: 0.7171 - val_loss: 0.5256 - val_acc: 0.7713\n",
      "Epoch 9/80\n",
      "668/668 [==============================] - 0s 23us/sample - loss: 0.5629 - acc: 0.7500 - val_loss: 0.5069 - val_acc: 0.7623\n",
      "Epoch 10/80\n",
      "668/668 [==============================] - 0s 25us/sample - loss: 0.5416 - acc: 0.7500 - val_loss: 0.4921 - val_acc: 0.7758\n",
      "Epoch 11/80\n",
      "668/668 [==============================] - 0s 26us/sample - loss: 0.5385 - acc: 0.7710 - val_loss: 0.4810 - val_acc: 0.7848\n",
      "Epoch 12/80\n",
      "668/668 [==============================] - 0s 25us/sample - loss: 0.5649 - acc: 0.7485 - val_loss: 0.4737 - val_acc: 0.7803\n",
      "Epoch 13/80\n",
      "668/668 [==============================] - 0s 26us/sample - loss: 0.5135 - acc: 0.7874 - val_loss: 0.4674 - val_acc: 0.7803\n",
      "Epoch 14/80\n",
      "668/668 [==============================] - 0s 24us/sample - loss: 0.5077 - acc: 0.7650 - val_loss: 0.4621 - val_acc: 0.7803\n",
      "Epoch 15/80\n",
      "668/668 [==============================] - 0s 27us/sample - loss: 0.4964 - acc: 0.7994 - val_loss: 0.4575 - val_acc: 0.7803\n",
      "Epoch 16/80\n",
      "668/668 [==============================] - 0s 26us/sample - loss: 0.4837 - acc: 0.7919 - val_loss: 0.4527 - val_acc: 0.7848\n",
      "Epoch 17/80\n",
      "668/668 [==============================] - 0s 24us/sample - loss: 0.4935 - acc: 0.7710 - val_loss: 0.4491 - val_acc: 0.7937\n",
      "Epoch 18/80\n",
      "668/668 [==============================] - 0s 23us/sample - loss: 0.4999 - acc: 0.8024 - val_loss: 0.4467 - val_acc: 0.8072\n",
      "Epoch 19/80\n",
      "668/668 [==============================] - 0s 25us/sample - loss: 0.4887 - acc: 0.7844 - val_loss: 0.4444 - val_acc: 0.8072\n",
      "Epoch 20/80\n",
      "668/668 [==============================] - 0s 24us/sample - loss: 0.4690 - acc: 0.8069 - val_loss: 0.4426 - val_acc: 0.8072\n",
      "Epoch 21/80\n",
      "668/668 [==============================] - 0s 22us/sample - loss: 0.4865 - acc: 0.8039 - val_loss: 0.4403 - val_acc: 0.8072\n",
      "Epoch 22/80\n",
      "668/668 [==============================] - 0s 24us/sample - loss: 0.4888 - acc: 0.8099 - val_loss: 0.4380 - val_acc: 0.8206\n",
      "Epoch 23/80\n",
      "668/668 [==============================] - 0s 24us/sample - loss: 0.4740 - acc: 0.8293 - val_loss: 0.4365 - val_acc: 0.8072\n",
      "Epoch 24/80\n",
      "668/668 [==============================] - 0s 22us/sample - loss: 0.4756 - acc: 0.8204 - val_loss: 0.4360 - val_acc: 0.8117\n",
      "Epoch 25/80\n",
      "668/668 [==============================] - 0s 25us/sample - loss: 0.4434 - acc: 0.8189 - val_loss: 0.4362 - val_acc: 0.8072\n",
      "Epoch 26/80\n",
      "668/668 [==============================] - 0s 25us/sample - loss: 0.4771 - acc: 0.7994 - val_loss: 0.4368 - val_acc: 0.7982\n",
      "Epoch 27/80\n",
      "668/668 [==============================] - 0s 22us/sample - loss: 0.4597 - acc: 0.8099 - val_loss: 0.4346 - val_acc: 0.8072\n",
      "Epoch 28/80\n",
      "668/668 [==============================] - 0s 21us/sample - loss: 0.4492 - acc: 0.8189 - val_loss: 0.4337 - val_acc: 0.8072\n",
      "Epoch 29/80\n",
      "668/668 [==============================] - 0s 24us/sample - loss: 0.4780 - acc: 0.7979 - val_loss: 0.4332 - val_acc: 0.8072\n",
      "Epoch 30/80\n",
      "668/668 [==============================] - 0s 22us/sample - loss: 0.4529 - acc: 0.8234 - val_loss: 0.4334 - val_acc: 0.8117\n",
      "Epoch 31/80\n",
      "668/668 [==============================] - 0s 20us/sample - loss: 0.4631 - acc: 0.8024 - val_loss: 0.4346 - val_acc: 0.8117\n",
      "Epoch 32/80\n",
      "668/668 [==============================] - 0s 24us/sample - loss: 0.4310 - acc: 0.8308 - val_loss: 0.4365 - val_acc: 0.8117\n",
      "Epoch 33/80\n",
      "668/668 [==============================] - 0s 22us/sample - loss: 0.4517 - acc: 0.8278 - val_loss: 0.4361 - val_acc: 0.8117\n",
      "Epoch 34/80\n",
      "668/668 [==============================] - 0s 20us/sample - loss: 0.4661 - acc: 0.8219 - val_loss: 0.4351 - val_acc: 0.8072\n",
      "Epoch 35/80\n",
      "668/668 [==============================] - 0s 20us/sample - loss: 0.4383 - acc: 0.8144 - val_loss: 0.4360 - val_acc: 0.8117\n",
      "Epoch 36/80\n",
      "668/668 [==============================] - 0s 23us/sample - loss: 0.4332 - acc: 0.8278 - val_loss: 0.4365 - val_acc: 0.8117\n",
      "Epoch 37/80\n",
      "668/668 [==============================] - 0s 23us/sample - loss: 0.4414 - acc: 0.8308 - val_loss: 0.4411 - val_acc: 0.8117\n",
      "Epoch 38/80\n",
      "668/668 [==============================] - 0s 25us/sample - loss: 0.4370 - acc: 0.8278 - val_loss: 0.4457 - val_acc: 0.8161\n",
      "Epoch 39/80\n",
      "668/668 [==============================] - 0s 24us/sample - loss: 0.4225 - acc: 0.8323 - val_loss: 0.4462 - val_acc: 0.8117\n",
      "Epoch 40/80\n",
      "668/668 [==============================] - 0s 27us/sample - loss: 0.4560 - acc: 0.8189 - val_loss: 0.4415 - val_acc: 0.8117\n",
      "Epoch 41/80\n",
      "668/668 [==============================] - 0s 26us/sample - loss: 0.4507 - acc: 0.8144 - val_loss: 0.4364 - val_acc: 0.8161\n",
      "Epoch 42/80\n",
      "668/668 [==============================] - 0s 23us/sample - loss: 0.4302 - acc: 0.8129 - val_loss: 0.4328 - val_acc: 0.8161\n",
      "Epoch 43/80\n",
      "668/668 [==============================] - 0s 20us/sample - loss: 0.4227 - acc: 0.8398 - val_loss: 0.4335 - val_acc: 0.8117\n",
      "Epoch 44/80\n",
      "668/668 [==============================] - 0s 23us/sample - loss: 0.4443 - acc: 0.8308 - val_loss: 0.4331 - val_acc: 0.8117\n",
      "Epoch 45/80\n",
      "668/668 [==============================] - 0s 26us/sample - loss: 0.4124 - acc: 0.8428 - val_loss: 0.4354 - val_acc: 0.8117\n",
      "Epoch 46/80\n",
      "668/668 [==============================] - 0s 29us/sample - loss: 0.4274 - acc: 0.8578 - val_loss: 0.4371 - val_acc: 0.8072\n",
      "Epoch 47/80\n",
      "668/668 [==============================] - 0s 26us/sample - loss: 0.4066 - acc: 0.8368 - val_loss: 0.4356 - val_acc: 0.8072\n",
      "Epoch 48/80\n",
      "668/668 [==============================] - 0s 23us/sample - loss: 0.4274 - acc: 0.8368 - val_loss: 0.4363 - val_acc: 0.8072\n",
      "Epoch 49/80\n",
      "668/668 [==============================] - 0s 27us/sample - loss: 0.4189 - acc: 0.8308 - val_loss: 0.4341 - val_acc: 0.8117\n",
      "Epoch 50/80\n",
      "668/668 [==============================] - 0s 24us/sample - loss: 0.4112 - acc: 0.8563 - val_loss: 0.4360 - val_acc: 0.8117\n",
      "Epoch 51/80\n",
      "668/668 [==============================] - 0s 23us/sample - loss: 0.4160 - acc: 0.8533 - val_loss: 0.4365 - val_acc: 0.8117\n",
      "Epoch 52/80\n",
      "668/668 [==============================] - 0s 24us/sample - loss: 0.4127 - acc: 0.8293 - val_loss: 0.4398 - val_acc: 0.8117\n",
      "Epoch 53/80\n",
      "668/668 [==============================] - 0s 23us/sample - loss: 0.4104 - acc: 0.8338 - val_loss: 0.4413 - val_acc: 0.8117\n",
      "Epoch 54/80\n",
      "668/668 [==============================] - 0s 25us/sample - loss: 0.4315 - acc: 0.8368 - val_loss: 0.4425 - val_acc: 0.8072\n",
      "Epoch 55/80\n",
      "668/668 [==============================] - 0s 23us/sample - loss: 0.3913 - acc: 0.8608 - val_loss: 0.4442 - val_acc: 0.8027\n",
      "Epoch 56/80\n",
      "668/668 [==============================] - 0s 23us/sample - loss: 0.4118 - acc: 0.8473 - val_loss: 0.4463 - val_acc: 0.8072\n",
      "Epoch 57/80\n",
      "668/668 [==============================] - 0s 23us/sample - loss: 0.3967 - acc: 0.8413 - val_loss: 0.4445 - val_acc: 0.8072\n",
      "Epoch 58/80\n",
      "668/668 [==============================] - 0s 23us/sample - loss: 0.4079 - acc: 0.8428 - val_loss: 0.4427 - val_acc: 0.8117\n",
      "Epoch 59/80\n",
      "668/668 [==============================] - 0s 25us/sample - loss: 0.4292 - acc: 0.8293 - val_loss: 0.4425 - val_acc: 0.8206\n",
      "Epoch 60/80\n",
      "668/668 [==============================] - 0s 24us/sample - loss: 0.4036 - acc: 0.8383 - val_loss: 0.4421 - val_acc: 0.8161\n"
     ]
    },
    {
     "name": "stdout",
     "output_type": "stream",
     "text": [
      "Epoch 61/80\n",
      "668/668 [==============================] - 0s 23us/sample - loss: 0.4234 - acc: 0.8443 - val_loss: 0.4433 - val_acc: 0.8117\n",
      "Epoch 62/80\n",
      "668/668 [==============================] - 0s 23us/sample - loss: 0.3970 - acc: 0.8458 - val_loss: 0.4488 - val_acc: 0.8117\n",
      "Epoch 63/80\n",
      "668/668 [==============================] - 0s 21us/sample - loss: 0.4036 - acc: 0.8398 - val_loss: 0.4511 - val_acc: 0.8117\n",
      "Epoch 64/80\n",
      "668/668 [==============================] - 0s 25us/sample - loss: 0.4097 - acc: 0.8488 - val_loss: 0.4476 - val_acc: 0.8206\n",
      "Epoch 65/80\n",
      "668/668 [==============================] - 0s 24us/sample - loss: 0.3940 - acc: 0.8473 - val_loss: 0.4429 - val_acc: 0.8206\n",
      "Epoch 66/80\n",
      "668/668 [==============================] - 0s 24us/sample - loss: 0.4116 - acc: 0.8428 - val_loss: 0.4430 - val_acc: 0.8206\n",
      "Epoch 67/80\n",
      "668/668 [==============================] - 0s 23us/sample - loss: 0.3971 - acc: 0.8443 - val_loss: 0.4407 - val_acc: 0.8206\n",
      "Epoch 68/80\n",
      "668/668 [==============================] - 0s 25us/sample - loss: 0.4089 - acc: 0.8473 - val_loss: 0.4411 - val_acc: 0.8296\n",
      "Epoch 69/80\n",
      "668/668 [==============================] - 0s 24us/sample - loss: 0.3955 - acc: 0.8323 - val_loss: 0.4396 - val_acc: 0.8206\n",
      "Epoch 70/80\n",
      "668/668 [==============================] - 0s 25us/sample - loss: 0.3983 - acc: 0.8488 - val_loss: 0.4390 - val_acc: 0.8206\n",
      "Epoch 71/80\n",
      "668/668 [==============================] - 0s 27us/sample - loss: 0.4033 - acc: 0.8398 - val_loss: 0.4405 - val_acc: 0.8206\n",
      "Epoch 72/80\n",
      "668/668 [==============================] - 0s 24us/sample - loss: 0.3928 - acc: 0.8398 - val_loss: 0.4437 - val_acc: 0.8296\n",
      "Epoch 73/80\n",
      "668/668 [==============================] - 0s 24us/sample - loss: 0.4124 - acc: 0.8488 - val_loss: 0.4479 - val_acc: 0.8296\n",
      "Epoch 74/80\n",
      "668/668 [==============================] - 0s 24us/sample - loss: 0.3795 - acc: 0.8548 - val_loss: 0.4490 - val_acc: 0.8296\n",
      "Epoch 75/80\n",
      "668/668 [==============================] - 0s 24us/sample - loss: 0.4008 - acc: 0.8368 - val_loss: 0.4447 - val_acc: 0.8296\n",
      "Epoch 76/80\n",
      "668/668 [==============================] - 0s 24us/sample - loss: 0.4138 - acc: 0.8383 - val_loss: 0.4457 - val_acc: 0.8296\n",
      "Epoch 77/80\n",
      "668/668 [==============================] - 0s 23us/sample - loss: 0.3802 - acc: 0.8518 - val_loss: 0.4446 - val_acc: 0.8296\n",
      "Epoch 78/80\n",
      "668/668 [==============================] - 0s 22us/sample - loss: 0.3859 - acc: 0.8443 - val_loss: 0.4482 - val_acc: 0.8251\n",
      "Epoch 79/80\n",
      "668/668 [==============================] - 0s 22us/sample - loss: 0.3914 - acc: 0.8473 - val_loss: 0.4539 - val_acc: 0.8251\n",
      "Epoch 80/80\n",
      "668/668 [==============================] - 0s 22us/sample - loss: 0.3930 - acc: 0.8458 - val_loss: 0.4577 - val_acc: 0.8251\n"
     ]
    }
   ],
   "source": [
    "#trains the model for 80 epochs with a batch size of 128, validating on the independent/dependent validation sets\n",
    "history = model.fit(X_train,Y_train, batch_size = 128, epochs=80, validation_data=(X_val, Y_val), verbose=1)"
   ]
  },
  {
   "cell_type": "code",
   "execution_count": 73,
   "metadata": {},
   "outputs": [
    {
     "data": {
      "text/plain": [
       "dict_keys(['loss', 'acc', 'val_loss', 'val_acc'])"
      ]
     },
     "execution_count": 73,
     "metadata": {},
     "output_type": "execute_result"
    }
   ],
   "source": [
    "#grabbing the record of training/validation loss values and metrics values at successive epochs\n",
    "history_dict = history.history\n",
    "history_dict.keys()"
   ]
  },
  {
   "cell_type": "code",
   "execution_count": 74,
   "metadata": {},
   "outputs": [],
   "source": [
    "#grabbing the dictionary keys and putting them into variables\n",
    "acc = history_dict['acc']\n",
    "val_acc = history_dict['val_acc']\n",
    "loss = history_dict['loss']\n",
    "val_loss = history_dict['val_loss']\n",
    "\n",
    "#number of epochs\n",
    "epochs = range(1, len(acc) + 1)"
   ]
  },
  {
   "cell_type": "code",
   "execution_count": 75,
   "metadata": {},
   "outputs": [
    {
     "data": {
      "image/png": "[encoded data removed]",
      "text/plain": [
       "<Figure size 432x288 with 1 Axes>"
      ]
     },
     "metadata": {
      "needs_background": "light"
     },
     "output_type": "display_data"
    }
   ],
   "source": [
    "#plotting the training and validation loss for each epoch\n",
    "\n",
    "# \"bo\" is for \"blue dot\"\n",
    "plt.plot(epochs, loss, 'bo', label='Training loss')\n",
    "# b is for \"solid blue line\"\n",
    "plt.plot(epochs, val_loss, 'b', label='Validation loss')\n",
    "plt.title('Training and validation loss')\n",
    "plt.xlabel('Epochs')\n",
    "plt.ylabel('Loss')\n",
    "plt.legend()\n",
    "\n",
    "plt.show()"
   ]
  },
  {
   "cell_type": "code",
   "execution_count": 76,
   "metadata": {},
   "outputs": [
    {
     "data": {
      "image/png": "[encoded data removed]",
      "text/plain": [
       "<Figure size 432x288 with 1 Axes>"
      ]
     },
     "metadata": {
      "needs_background": "light"
     },
     "output_type": "display_data"
    }
   ],
   "source": [
    "plt.clf()   # clear figure\n",
    "\n",
    "#plotting the training and validation accuracy for each epoch\n",
    "\n",
    "plt.plot(epochs, acc, 'bo', label='Training acc')\n",
    "plt.plot(epochs, val_acc, 'b', label='Validation acc')\n",
    "plt.title('Training and validation accuracy')\n",
    "plt.xlabel('Epochs')\n",
    "plt.ylabel('Accuracy')\n",
    "plt.legend()\n",
    "\n",
    "plt.show()"
   ]
  },
  {
   "cell_type": "markdown",
   "metadata": {},
   "source": [
    "# Prediction for Dropout Regularization Neural Network"
   ]
  },
  {
   "cell_type": "code",
   "execution_count": 77,
   "metadata": {},
   "outputs": [],
   "source": [
    "#generates output predictions of survived or did not survive for each Titanic passenger in the test DataFrame\n",
    "prediction = model.predict_classes(testDf)"
   ]
  },
  {
   "cell_type": "code",
   "execution_count": 78,
   "metadata": {},
   "outputs": [
    {
     "data": {
      "text/plain": [
       "(418, 1)"
      ]
     },
     "execution_count": 78,
     "metadata": {},
     "output_type": "execute_result"
    }
   ],
   "source": [
    "#check shape of prediction DataFrame\n",
    "prediction.shape"
   ]
  },
  {
   "cell_type": "code",
   "execution_count": 79,
   "metadata": {},
   "outputs": [],
   "source": [
    "#prepare for Kaggle submission\n",
    "testFinal = testData[['PassengerId']]\n",
    "testFinal['Survived'] = prediction"
   ]
  },
  {
   "cell_type": "code",
   "execution_count": 80,
   "metadata": {},
   "outputs": [],
   "source": [
    "#exporting to csv file for Kaggle submission\n",
    "testFinal.to_csv('2019TitanicDropout.csv', index = False)\n",
    "#score without dropout 0.79425 (correct Survival prediction of 79.425%)"
   ]
  },
  {
   "cell_type": "markdown",
   "metadata": {},
   "source": [
    "# Using Random Search for Neural Network"
   ]
  },
  {
   "cell_type": "code",
   "execution_count": 81,
   "metadata": {},
   "outputs": [],
   "source": [
    "#import libraries necessary for random search\n",
    "from sklearn.model_selection import RandomizedSearchCV\n",
    "from numpy.random import seed\n",
    "from tensorflow import set_random_seed"
   ]
  },
  {
   "cell_type": "code",
   "execution_count": 82,
   "metadata": {},
   "outputs": [],
   "source": [
    "#use a create_model function with default values for use with random search\n",
    "def create_model(layers = [128,64,32], act = 'relu', opt = 'adam', lr = 0.0):    \n",
    "    model = keras.models.Sequential()\n",
    "    \n",
    "    # create first hidden layer\n",
    "    model.add(keras.layers.Dense(layers[0], input_dim = X_train.shape[1], \n",
    "                                 kernel_regularizer=keras.regularizers.l2(lr),activation=act))\n",
    "    \n",
    "    # create additional hidden layers\n",
    "    for i in range(1,len(layers)):\n",
    "        model.add(keras.layers.Dense(layers[i], kernel_regularizer=keras.regularizers.l2(lr), activation=act))\n",
    "    \n",
    "    # create output layer\n",
    "    model.add(keras.layers.Dense(1, activation='sigmoid'))  # output layer\n",
    "    \n",
    "    #configure model for training\n",
    "    model.compile(loss='binary_crossentropy', optimizer=opt, metrics=['accuracy'])\n",
    "    \n",
    "    return model"
   ]
  },
  {
   "cell_type": "code",
   "execution_count": 83,
   "metadata": {},
   "outputs": [],
   "source": [
    "#create the model for random search\n",
    "model = tf.keras.wrappers.scikit_learn.KerasClassifier(build_fn=create_model, verbose=0)"
   ]
  },
  {
   "cell_type": "code",
   "execution_count": 84,
   "metadata": {},
   "outputs": [],
   "source": [
    "#creating the dictionary with parameters names (string) as keys and lists of parameters to try\n",
    "batch_size = [16, 32, 64, 128, 256]\n",
    "epochs = range(10,100)\n",
    "lr = np.arange(0.0, 1.0, 0.03)\n",
    "optimizer = ['RMSprop', 'Adagrad','Adam',]\n",
    "layers = [[128,64,32],[64,64,64],[32,25,12],[25,25],[25,12],[12]]\n",
    "\n",
    "param_dist = dict(batch_size=batch_size, epochs=epochs, lr=lr, opt = optimizer, layers = layers)"
   ]
  },
  {
   "cell_type": "code",
   "execution_count": 85,
   "metadata": {},
   "outputs": [],
   "source": [
    "#creating the variable to perform the Random Search using accuracy to evaluate predictions on the test set,\n",
    "#using 100 different iterations, 5-fold cross validation, and running 2 jobs in parallel\n",
    "random_search = RandomizedSearchCV(estimator=model, \n",
    "                                   param_distributions=param_dist, scoring = 'accuracy',n_iter=100, cv=5, n_jobs=2,\n",
    "                                   verbose = 0, random_state = 0)"
   ]
  },
  {
   "cell_type": "code",
   "execution_count": 86,
   "metadata": {},
   "outputs": [
    {
     "name": "stderr",
     "output_type": "stream",
     "text": [
      "/anaconda3/lib/python3.7/site-packages/sklearn/model_selection/_search.py:841: DeprecationWarning: The default of the `iid` parameter will change from True to False in version 0.22 and will be removed in 0.24. This will change numeric results when test-set sizes are unequal.\n",
      "  DeprecationWarning)\n",
      "W0822 12:04:28.692431 4649268672 deprecation.py:506] From /anaconda3/lib/python3.7/site-packages/tensorflow/python/keras/optimizer_v2/adagrad.py:105: calling Constant.__init__ (from tensorflow.python.ops.init_ops) with dtype is deprecated and will be removed in a future version.\n",
      "Instructions for updating:\n",
      "Call initializer instance with the dtype argument instead of passing it to the constructor\n"
     ]
    },
    {
     "name": "stdout",
     "output_type": "stream",
     "text": [
      "CPU times: user 3.56 s, sys: 787 ms, total: 4.35 s\n",
      "Wall time: 7min 37s\n"
     ]
    },
    {
     "data": {
      "text/plain": [
       "RandomizedSearchCV(cv=5, error_score='raise-deprecating',\n",
       "          estimator=<tensorflow.python.keras.wrappers.scikit_learn.KerasClassifier object at 0x1a37b2e518>,\n",
       "          fit_params=None, iid='warn', n_iter=100, n_jobs=2,\n",
       "          param_distributions={'batch_size': [16, 32, 64, 128, 256], 'epochs': range(10, 100), 'lr': array([0.  , 0.03, 0.06, 0.09, 0.12, 0.15, 0.18, 0.21, 0.24, 0.27, 0.3 ,\n",
       "       0.33, 0.36, 0.39, 0.42, 0.45, 0.48, 0.51, 0.54, 0.57, 0.6 , 0.63,\n",
       "       0.66, 0.69, 0.72, 0.75, 0.78, 0.81, 0.84, 0.87, 0.9 , 0.93, 0.96,\n",
       "       0.99]), 'opt': ['RMSprop', 'Adagrad', 'Adam'], 'layers': [[128, 64, 32], [64, 64, 64], [32, 25, 12], [25, 25], [25, 12], [12]]},\n",
       "          pre_dispatch='2*n_jobs', random_state=0, refit=True,\n",
       "          return_train_score='warn', scoring='accuracy', verbose=0)"
      ]
     },
     "execution_count": 86,
     "metadata": {},
     "output_type": "execute_result"
    }
   ],
   "source": [
    "%%time\n",
    "#measure the amount of CPU and wall time to complete fit the random search model\n",
    "\n",
    "# Fit the random search model\n",
    "random_search.fit(X_train, Y_train)"
   ]
  },
  {
   "cell_type": "code",
   "execution_count": 87,
   "metadata": {},
   "outputs": [
    {
     "data": {
      "text/plain": [
       "{'opt': 'Adagrad',\n",
       " 'lr': 0.0,\n",
       " 'layers': [128, 64, 32],\n",
       " 'epochs': 61,\n",
       " 'batch_size': 32}"
      ]
     },
     "execution_count": 87,
     "metadata": {},
     "output_type": "execute_result"
    }
   ],
   "source": [
    "#the best parameters found from the random search\n",
    "random_search.best_params_"
   ]
  },
  {
   "cell_type": "code",
   "execution_count": 88,
   "metadata": {},
   "outputs": [
    {
     "name": "stdout",
     "output_type": "stream",
     "text": [
      "0.8203592814371258\n"
     ]
    }
   ],
   "source": [
    "#the best accuracy score using the best parameters\n",
    "print(random_search.best_score_)"
   ]
  },
  {
   "cell_type": "markdown",
   "metadata": {},
   "source": [
    "# Perform Another Random Search Based On Previous Random Search"
   ]
  },
  {
   "cell_type": "code",
   "execution_count": 89,
   "metadata": {},
   "outputs": [],
   "source": [
    "#creating the dictionary with parameters names (string) as keys and lists of parameters to try\n",
    "batch_size = [32, 64, 128]\n",
    "epochs = range(50,100)\n",
    "lr = np.arange(0.0, 0.3, 0.03)\n",
    "optimizer = ['Adagrad']\n",
    "layers = [[128,64,32],[85,85,85],[64,64,64],[32,25,12],[12,12,12]]\n",
    "\n",
    "param_dist = dict(batch_size=batch_size, epochs=epochs, lr=lr, opt = optimizer, layers = layers)"
   ]
  },
  {
   "cell_type": "code",
   "execution_count": 90,
   "metadata": {},
   "outputs": [],
   "source": [
    "#creating the variable to perform the Random Search using accuracy to evaluate predictions on the test set,\n",
    "#using 25 different iterations, 5-fold cross validation, and running 2 jobs in parallel\n",
    "random_search2 = RandomizedSearchCV(estimator=model, \n",
    "                                   param_distributions=param_dist, scoring = 'accuracy',n_iter=25, cv=5,n_jobs=2,\n",
    "                                   verbose = 1, random_state = 0)"
   ]
  },
  {
   "cell_type": "code",
   "execution_count": 91,
   "metadata": {},
   "outputs": [
    {
     "name": "stdout",
     "output_type": "stream",
     "text": [
      "Fitting 5 folds for each of 25 candidates, totalling 125 fits\n"
     ]
    },
    {
     "name": "stderr",
     "output_type": "stream",
     "text": [
      "[Parallel(n_jobs=2)]: Using backend LokyBackend with 2 concurrent workers.\n",
      "[Parallel(n_jobs=2)]: Done  46 tasks      | elapsed:   46.2s\n",
      "[Parallel(n_jobs=2)]: Done 125 out of 125 | elapsed:  2.0min finished\n",
      "/anaconda3/lib/python3.7/site-packages/sklearn/model_selection/_search.py:841: DeprecationWarning: The default of the `iid` parameter will change from True to False in version 0.22 and will be removed in 0.24. This will change numeric results when test-set sizes are unequal.\n",
      "  DeprecationWarning)\n"
     ]
    },
    {
     "name": "stdout",
     "output_type": "stream",
     "text": [
      "CPU times: user 3.6 s, sys: 545 ms, total: 4.14 s\n",
      "Wall time: 2min 1s\n"
     ]
    },
    {
     "data": {
      "text/plain": [
       "RandomizedSearchCV(cv=5, error_score='raise-deprecating',\n",
       "          estimator=<tensorflow.python.keras.wrappers.scikit_learn.KerasClassifier object at 0x1a37b2e518>,\n",
       "          fit_params=None, iid='warn', n_iter=25, n_jobs=2,\n",
       "          param_distributions={'batch_size': [32, 64, 128], 'epochs': range(50, 100), 'lr': array([0.  , 0.03, 0.06, 0.09, 0.12, 0.15, 0.18, 0.21, 0.24, 0.27]), 'opt': ['Adagrad'], 'layers': [[128, 64, 32], [85, 85, 85], [64, 64, 64], [32, 25, 12], [12, 12, 12]]},\n",
       "          pre_dispatch='2*n_jobs', random_state=0, refit=True,\n",
       "          return_train_score='warn', scoring='accuracy', verbose=1)"
      ]
     },
     "execution_count": 91,
     "metadata": {},
     "output_type": "execute_result"
    }
   ],
   "source": [
    "%%time\n",
    "#measure the amount of CPU and wall time to complete fit the random search model\n",
    "\n",
    "# Fit the random search model\n",
    "random_search2.fit(X_train, Y_train)"
   ]
  },
  {
   "cell_type": "code",
   "execution_count": 92,
   "metadata": {},
   "outputs": [
    {
     "data": {
      "text/plain": [
       "{'opt': 'Adagrad',\n",
       " 'lr': 0.03,\n",
       " 'layers': [128, 64, 32],\n",
       " 'epochs': 84,\n",
       " 'batch_size': 32}"
      ]
     },
     "execution_count": 92,
     "metadata": {},
     "output_type": "execute_result"
    }
   ],
   "source": [
    "random_search2.best_params_"
   ]
  },
  {
   "cell_type": "code",
   "execution_count": 93,
   "metadata": {},
   "outputs": [
    {
     "name": "stdout",
     "output_type": "stream",
     "text": [
      "0.8203592814371258\n"
     ]
    }
   ],
   "source": [
    "print(random_search.best_score_)"
   ]
  },
  {
   "cell_type": "markdown",
   "metadata": {},
   "source": [
    "# Create Model Based on Random Search"
   ]
  },
  {
   "cell_type": "code",
   "execution_count": 94,
   "metadata": {},
   "outputs": [],
   "source": [
    "#create the model with the Adagrad optimizer, relu activation function, three layers have 128, 64, and 32 nodes, \n",
    "#respectively, and a learning rate of 0.03 based on random search results\n",
    "model = create_model(opt = 'Adagrad', lr = 0.03)"
   ]
  },
  {
   "cell_type": "code",
   "execution_count": 95,
   "metadata": {},
   "outputs": [
    {
     "name": "stdout",
     "output_type": "stream",
     "text": [
      "Train on 668 samples, validate on 223 samples\n",
      "Epoch 1/84\n",
      "668/668 [==============================] - 0s 417us/sample - loss: 5.6810 - acc: 0.6063 - val_loss: 5.4363 - val_acc: 0.6009\n",
      "Epoch 2/84\n",
      "668/668 [==============================] - 0s 49us/sample - loss: 5.2956 - acc: 0.6272 - val_loss: 5.1645 - val_acc: 0.6188\n",
      "Epoch 3/84\n",
      "668/668 [==============================] - 0s 46us/sample - loss: 5.0628 - acc: 0.6317 - val_loss: 4.9655 - val_acc: 0.6143\n",
      "Epoch 4/84\n",
      "668/668 [==============================] - 0s 50us/sample - loss: 4.8825 - acc: 0.6347 - val_loss: 4.8037 - val_acc: 0.6143\n",
      "Epoch 5/84\n",
      "668/668 [==============================] - 0s 48us/sample - loss: 4.7324 - acc: 0.6377 - val_loss: 4.6654 - val_acc: 0.6143\n",
      "Epoch 6/84\n",
      "668/668 [==============================] - 0s 49us/sample - loss: 4.6017 - acc: 0.6422 - val_loss: 4.5430 - val_acc: 0.6278\n",
      "Epoch 7/84\n",
      "668/668 [==============================] - 0s 51us/sample - loss: 4.4852 - acc: 0.6467 - val_loss: 4.4332 - val_acc: 0.6368\n",
      "Epoch 8/84\n",
      "668/668 [==============================] - 0s 50us/sample - loss: 4.3799 - acc: 0.6587 - val_loss: 4.3336 - val_acc: 0.6547\n",
      "Epoch 9/84\n",
      "668/668 [==============================] - 0s 48us/sample - loss: 4.2840 - acc: 0.6662 - val_loss: 4.2422 - val_acc: 0.6682\n",
      "Epoch 10/84\n",
      "668/668 [==============================] - 0s 51us/sample - loss: 4.1955 - acc: 0.6811 - val_loss: 4.1575 - val_acc: 0.6861\n",
      "Epoch 11/84\n",
      "668/668 [==============================] - 0s 49us/sample - loss: 4.1133 - acc: 0.6946 - val_loss: 4.0786 - val_acc: 0.6906\n",
      "Epoch 12/84\n",
      "668/668 [==============================] - 0s 44us/sample - loss: 4.0363 - acc: 0.7051 - val_loss: 4.0045 - val_acc: 0.7085\n",
      "Epoch 13/84\n",
      "668/668 [==============================] - 0s 46us/sample - loss: 3.9641 - acc: 0.7156 - val_loss: 3.9348 - val_acc: 0.7175\n",
      "Epoch 14/84\n",
      "668/668 [==============================] - 0s 46us/sample - loss: 3.8960 - acc: 0.7350 - val_loss: 3.8688 - val_acc: 0.7220\n",
      "Epoch 15/84\n",
      "668/668 [==============================] - 0s 45us/sample - loss: 3.8316 - acc: 0.7470 - val_loss: 3.8062 - val_acc: 0.7399\n",
      "Epoch 16/84\n",
      "668/668 [==============================] - 0s 51us/sample - loss: 3.7703 - acc: 0.7545 - val_loss: 3.7467 - val_acc: 0.7399\n",
      "Epoch 17/84\n",
      "668/668 [==============================] - 0s 51us/sample - loss: 3.7121 - acc: 0.7620 - val_loss: 3.6901 - val_acc: 0.7444\n",
      "Epoch 18/84\n",
      "668/668 [==============================] - 0s 52us/sample - loss: 3.6565 - acc: 0.7590 - val_loss: 3.6359 - val_acc: 0.7623\n",
      "Epoch 19/84\n",
      "668/668 [==============================] - 0s 43us/sample - loss: 3.6033 - acc: 0.7635 - val_loss: 3.5840 - val_acc: 0.7578\n",
      "Epoch 20/84\n",
      "668/668 [==============================] - 0s 49us/sample - loss: 3.5523 - acc: 0.7680 - val_loss: 3.5342 - val_acc: 0.7578\n",
      "Epoch 21/84\n",
      "668/668 [==============================] - 0s 48us/sample - loss: 3.5034 - acc: 0.7725 - val_loss: 3.4862 - val_acc: 0.7668\n",
      "Epoch 22/84\n",
      "668/668 [==============================] - 0s 51us/sample - loss: 3.4563 - acc: 0.7740 - val_loss: 3.4401 - val_acc: 0.7713\n",
      "Epoch 23/84\n",
      "668/668 [==============================] - 0s 47us/sample - loss: 3.4110 - acc: 0.7769 - val_loss: 3.3956 - val_acc: 0.7758\n",
      "Epoch 24/84\n",
      "668/668 [==============================] - 0s 49us/sample - loss: 3.3672 - acc: 0.7844 - val_loss: 3.3527 - val_acc: 0.7848\n",
      "Epoch 25/84\n",
      "668/668 [==============================] - 0s 50us/sample - loss: 3.3250 - acc: 0.7829 - val_loss: 3.3111 - val_acc: 0.7848\n",
      "Epoch 26/84\n",
      "668/668 [==============================] - 0s 50us/sample - loss: 3.2842 - acc: 0.7829 - val_loss: 3.2710 - val_acc: 0.7848\n",
      "Epoch 27/84\n",
      "668/668 [==============================] - 0s 51us/sample - loss: 3.2446 - acc: 0.7844 - val_loss: 3.2321 - val_acc: 0.7892\n",
      "Epoch 28/84\n",
      "668/668 [==============================] - 0s 44us/sample - loss: 3.2063 - acc: 0.7844 - val_loss: 3.1944 - val_acc: 0.7937\n",
      "Epoch 29/84\n",
      "668/668 [==============================] - 0s 48us/sample - loss: 3.1691 - acc: 0.7814 - val_loss: 3.1578 - val_acc: 0.7937\n",
      "Epoch 30/84\n",
      "668/668 [==============================] - 0s 45us/sample - loss: 3.1331 - acc: 0.7814 - val_loss: 3.1222 - val_acc: 0.7937\n",
      "Epoch 31/84\n",
      "668/668 [==============================] - 0s 47us/sample - loss: 3.0981 - acc: 0.7859 - val_loss: 3.0877 - val_acc: 0.7937\n",
      "Epoch 32/84\n",
      "668/668 [==============================] - 0s 51us/sample - loss: 3.0640 - acc: 0.7859 - val_loss: 3.0541 - val_acc: 0.7937\n",
      "Epoch 33/84\n",
      "668/668 [==============================] - 0s 43us/sample - loss: 3.0309 - acc: 0.7889 - val_loss: 3.0214 - val_acc: 0.7982\n",
      "Epoch 34/84\n",
      "668/668 [==============================] - 0s 49us/sample - loss: 2.9986 - acc: 0.7844 - val_loss: 2.9896 - val_acc: 0.7937\n",
      "Epoch 35/84\n",
      "668/668 [==============================] - 0s 46us/sample - loss: 2.9673 - acc: 0.7889 - val_loss: 2.9586 - val_acc: 0.7937\n",
      "Epoch 36/84\n",
      "668/668 [==============================] - 0s 46us/sample - loss: 2.9366 - acc: 0.7904 - val_loss: 2.9284 - val_acc: 0.7937\n",
      "Epoch 37/84\n",
      "668/668 [==============================] - 0s 63us/sample - loss: 2.9068 - acc: 0.7889 - val_loss: 2.8989 - val_acc: 0.7982\n",
      "Epoch 38/84\n",
      "668/668 [==============================] - 0s 68us/sample - loss: 2.8778 - acc: 0.7889 - val_loss: 2.8701 - val_acc: 0.7982\n",
      "Epoch 39/84\n",
      "668/668 [==============================] - 0s 67us/sample - loss: 2.8494 - acc: 0.7889 - val_loss: 2.8420 - val_acc: 0.7982\n",
      "Epoch 40/84\n",
      "668/668 [==============================] - 0s 60us/sample - loss: 2.8216 - acc: 0.7889 - val_loss: 2.8146 - val_acc: 0.8206\n",
      "Epoch 41/84\n",
      "668/668 [==============================] - 0s 52us/sample - loss: 2.7946 - acc: 0.7949 - val_loss: 2.7878 - val_acc: 0.8206\n",
      "Epoch 42/84\n",
      "668/668 [==============================] - 0s 57us/sample - loss: 2.7681 - acc: 0.7979 - val_loss: 2.7616 - val_acc: 0.8161\n",
      "Epoch 43/84\n",
      "668/668 [==============================] - 0s 55us/sample - loss: 2.7422 - acc: 0.7994 - val_loss: 2.7360 - val_acc: 0.8117\n",
      "Epoch 44/84\n",
      "668/668 [==============================] - 0s 63us/sample - loss: 2.7169 - acc: 0.7979 - val_loss: 2.7109 - val_acc: 0.8117\n",
      "Epoch 45/84\n",
      "668/668 [==============================] - 0s 48us/sample - loss: 2.6922 - acc: 0.8009 - val_loss: 2.6864 - val_acc: 0.8117\n",
      "Epoch 46/84\n",
      "668/668 [==============================] - 0s 44us/sample - loss: 2.6679 - acc: 0.8009 - val_loss: 2.6624 - val_acc: 0.8072\n",
      "Epoch 47/84\n",
      "668/668 [==============================] - 0s 50us/sample - loss: 2.6443 - acc: 0.7979 - val_loss: 2.6389 - val_acc: 0.8072\n",
      "Epoch 48/84\n",
      "668/668 [==============================] - 0s 49us/sample - loss: 2.6209 - acc: 0.7994 - val_loss: 2.6159 - val_acc: 0.8027\n",
      "Epoch 49/84\n",
      "668/668 [==============================] - 0s 51us/sample - loss: 2.5982 - acc: 0.7994 - val_loss: 2.5934 - val_acc: 0.8027\n",
      "Epoch 50/84\n",
      "668/668 [==============================] - 0s 51us/sample - loss: 2.5760 - acc: 0.7979 - val_loss: 2.5712 - val_acc: 0.8027\n",
      "Epoch 51/84\n",
      "668/668 [==============================] - 0s 48us/sample - loss: 2.5540 - acc: 0.7994 - val_loss: 2.5495 - val_acc: 0.8027\n",
      "Epoch 52/84\n",
      "668/668 [==============================] - 0s 47us/sample - loss: 2.5325 - acc: 0.8039 - val_loss: 2.5283 - val_acc: 0.7982\n",
      "Epoch 53/84\n",
      "668/668 [==============================] - 0s 51us/sample - loss: 2.5115 - acc: 0.7994 - val_loss: 2.5074 - val_acc: 0.7982\n",
      "Epoch 54/84\n",
      "668/668 [==============================] - 0s 63us/sample - loss: 2.4909 - acc: 0.8024 - val_loss: 2.4869 - val_acc: 0.7982\n",
      "Epoch 55/84\n",
      "668/668 [==============================] - 0s 55us/sample - loss: 2.4706 - acc: 0.8039 - val_loss: 2.4668 - val_acc: 0.7937\n",
      "Epoch 56/84\n",
      "668/668 [==============================] - 0s 55us/sample - loss: 2.4506 - acc: 0.8039 - val_loss: 2.4471 - val_acc: 0.7937\n",
      "Epoch 57/84\n",
      "668/668 [==============================] - 0s 63us/sample - loss: 2.4311 - acc: 0.8024 - val_loss: 2.4278 - val_acc: 0.7937\n",
      "Epoch 58/84\n",
      "668/668 [==============================] - 0s 55us/sample - loss: 2.4119 - acc: 0.8024 - val_loss: 2.4088 - val_acc: 0.7937\n",
      "Epoch 59/84\n",
      "668/668 [==============================] - 0s 52us/sample - loss: 2.3931 - acc: 0.7994 - val_loss: 2.3901 - val_acc: 0.7937\n",
      "Epoch 60/84\n",
      "668/668 [==============================] - 0s 49us/sample - loss: 2.3746 - acc: 0.8024 - val_loss: 2.3717 - val_acc: 0.7892\n"
     ]
    },
    {
     "name": "stdout",
     "output_type": "stream",
     "text": [
      "Epoch 61/84\n",
      "668/668 [==============================] - 0s 44us/sample - loss: 2.3563 - acc: 0.8009 - val_loss: 2.3537 - val_acc: 0.7892\n",
      "Epoch 62/84\n",
      "668/668 [==============================] - 0s 46us/sample - loss: 2.3385 - acc: 0.8009 - val_loss: 2.3359 - val_acc: 0.7892\n",
      "Epoch 63/84\n",
      "668/668 [==============================] - 0s 46us/sample - loss: 2.3209 - acc: 0.8009 - val_loss: 2.3185 - val_acc: 0.7892\n",
      "Epoch 64/84\n",
      "668/668 [==============================] - 0s 45us/sample - loss: 2.3036 - acc: 0.8024 - val_loss: 2.3013 - val_acc: 0.7892\n",
      "Epoch 65/84\n",
      "668/668 [==============================] - 0s 45us/sample - loss: 2.2866 - acc: 0.8009 - val_loss: 2.2845 - val_acc: 0.7892\n",
      "Epoch 66/84\n",
      "668/668 [==============================] - 0s 52us/sample - loss: 2.2699 - acc: 0.8024 - val_loss: 2.2679 - val_acc: 0.7803\n",
      "Epoch 67/84\n",
      "668/668 [==============================] - 0s 46us/sample - loss: 2.2534 - acc: 0.8024 - val_loss: 2.2515 - val_acc: 0.7803\n",
      "Epoch 68/84\n",
      "668/668 [==============================] - 0s 42us/sample - loss: 2.2372 - acc: 0.8009 - val_loss: 2.2355 - val_acc: 0.7803\n",
      "Epoch 69/84\n",
      "668/668 [==============================] - 0s 45us/sample - loss: 2.2213 - acc: 0.8009 - val_loss: 2.2196 - val_acc: 0.7803\n",
      "Epoch 70/84\n",
      "668/668 [==============================] - 0s 52us/sample - loss: 2.2056 - acc: 0.8024 - val_loss: 2.2040 - val_acc: 0.7803\n",
      "Epoch 71/84\n",
      "668/668 [==============================] - 0s 55us/sample - loss: 2.1901 - acc: 0.8039 - val_loss: 2.1887 - val_acc: 0.7803\n",
      "Epoch 72/84\n",
      "668/668 [==============================] - 0s 55us/sample - loss: 2.1749 - acc: 0.8024 - val_loss: 2.1737 - val_acc: 0.7803\n",
      "Epoch 73/84\n",
      "668/668 [==============================] - 0s 55us/sample - loss: 2.1599 - acc: 0.8024 - val_loss: 2.1588 - val_acc: 0.7803\n",
      "Epoch 74/84\n",
      "668/668 [==============================] - 0s 61us/sample - loss: 2.1452 - acc: 0.8039 - val_loss: 2.1441 - val_acc: 0.7803\n",
      "Epoch 75/84\n",
      "668/668 [==============================] - 0s 56us/sample - loss: 2.1306 - acc: 0.8024 - val_loss: 2.1297 - val_acc: 0.7803\n",
      "Epoch 76/84\n",
      "668/668 [==============================] - 0s 58us/sample - loss: 2.1164 - acc: 0.8024 - val_loss: 2.1155 - val_acc: 0.7803\n",
      "Epoch 77/84\n",
      "668/668 [==============================] - 0s 58us/sample - loss: 2.1022 - acc: 0.8024 - val_loss: 2.1015 - val_acc: 0.7803\n",
      "Epoch 78/84\n",
      "668/668 [==============================] - 0s 53us/sample - loss: 2.0884 - acc: 0.8039 - val_loss: 2.0878 - val_acc: 0.7803\n",
      "Epoch 79/84\n",
      "668/668 [==============================] - 0s 57us/sample - loss: 2.0746 - acc: 0.8024 - val_loss: 2.0742 - val_acc: 0.7803\n",
      "Epoch 80/84\n",
      "668/668 [==============================] - 0s 47us/sample - loss: 2.0611 - acc: 0.8039 - val_loss: 2.0608 - val_acc: 0.7848\n",
      "Epoch 81/84\n",
      "668/668 [==============================] - 0s 45us/sample - loss: 2.0478 - acc: 0.8054 - val_loss: 2.0476 - val_acc: 0.7848\n",
      "Epoch 82/84\n",
      "668/668 [==============================] - 0s 46us/sample - loss: 2.0347 - acc: 0.8039 - val_loss: 2.0346 - val_acc: 0.7848\n",
      "Epoch 83/84\n",
      "668/668 [==============================] - 0s 41us/sample - loss: 2.0218 - acc: 0.8054 - val_loss: 2.0217 - val_acc: 0.7848\n",
      "Epoch 84/84\n",
      "668/668 [==============================] - 0s 43us/sample - loss: 2.0090 - acc: 0.8039 - val_loss: 2.0091 - val_acc: 0.7892\n"
     ]
    }
   ],
   "source": [
    "#trains the model for 84 epochs with a batch size of 32, validating on the independent/dependent validation sets,\n",
    "#based on random search\n",
    "history = model.fit(X_train,Y_train, batch_size = 32, epochs=84, validation_data=(X_val, Y_val), verbose=1)"
   ]
  },
  {
   "cell_type": "code",
   "execution_count": 96,
   "metadata": {},
   "outputs": [
    {
     "data": {
      "text/plain": [
       "dict_keys(['loss', 'acc', 'val_loss', 'val_acc'])"
      ]
     },
     "execution_count": 96,
     "metadata": {},
     "output_type": "execute_result"
    }
   ],
   "source": [
    "#grabbing the record of training/validation loss values and metrics values at successive epochs\n",
    "history_dict = history.history\n",
    "history_dict.keys()"
   ]
  },
  {
   "cell_type": "code",
   "execution_count": 97,
   "metadata": {},
   "outputs": [],
   "source": [
    "#grabbing the dictionary keys and putting them into variables\n",
    "acc = history_dict['acc']\n",
    "val_acc = history_dict['val_acc']\n",
    "loss = history_dict['loss']\n",
    "val_loss = history_dict['val_loss']\n",
    "\n",
    "#number of epochs\n",
    "epochs = range(1, len(acc) + 1)"
   ]
  },
  {
   "cell_type": "code",
   "execution_count": 98,
   "metadata": {},
   "outputs": [
    {
     "data": {
      "image/png": "[encoded data removed]",
      "text/plain": [
       "<Figure size 432x288 with 1 Axes>"
      ]
     },
     "metadata": {
      "needs_background": "light"
     },
     "output_type": "display_data"
    }
   ],
   "source": [
    "#plotting the training and validation loss for each epoch\n",
    "\n",
    "# \"bo\" is for \"blue dot\"\n",
    "plt.plot(epochs, loss, 'bo', label='Training loss')\n",
    "# b is for \"solid blue line\"\n",
    "plt.plot(epochs, val_loss, 'b', label='Validation loss')\n",
    "plt.title('Training and validation loss')\n",
    "plt.xlabel('Epochs')\n",
    "plt.ylabel('Loss')\n",
    "plt.legend()\n",
    "\n",
    "plt.show()"
   ]
  },
  {
   "cell_type": "code",
   "execution_count": 99,
   "metadata": {},
   "outputs": [
    {
     "data": {
      "image/png": "[encoded data removed]",
      "text/plain": [
       "<Figure size 432x288 with 1 Axes>"
      ]
     },
     "metadata": {
      "needs_background": "light"
     },
     "output_type": "display_data"
    }
   ],
   "source": [
    "plt.clf()   # clear figure\n",
    "\n",
    "#plotting the training and validation accuracy for each epoch\n",
    "\n",
    "plt.plot(epochs, acc, 'bo', label='Training acc')\n",
    "plt.plot(epochs, val_acc, 'b', label='Validation acc')\n",
    "plt.title('Training and validation accuracy')\n",
    "plt.xlabel('Epochs')\n",
    "plt.ylabel('Accuracy')\n",
    "plt.legend()\n",
    "\n",
    "plt.show()"
   ]
  },
  {
   "cell_type": "markdown",
   "metadata": {},
   "source": [
    "# Prediction"
   ]
  },
  {
   "cell_type": "code",
   "execution_count": 100,
   "metadata": {},
   "outputs": [],
   "source": [
    "#generates output predictions of survived or did not survive for each Titanic passenger in the test DataFrame\n",
    "prediction = model.predict_classes(testDf)"
   ]
  },
  {
   "cell_type": "code",
   "execution_count": 101,
   "metadata": {},
   "outputs": [
    {
     "data": {
      "text/plain": [
       "(418, 1)"
      ]
     },
     "execution_count": 101,
     "metadata": {},
     "output_type": "execute_result"
    }
   ],
   "source": [
    "#check shape of prediction Dataframe\n",
    "prediction.shape"
   ]
  },
  {
   "cell_type": "code",
   "execution_count": 102,
   "metadata": {},
   "outputs": [],
   "source": [
    "#prepare for Kaggle submission\n",
    "testFinal = testData[['PassengerId']]\n",
    "testFinal['Survived'] = prediction"
   ]
  },
  {
   "cell_type": "code",
   "execution_count": 103,
   "metadata": {},
   "outputs": [],
   "source": [
    "#exporting to csv file for Kaggle submission\n",
    "testFinal.to_csv('2019TitanicRandomSearch.csv', index = False)\n",
    "#score without RandomSearch 0.76076 (correct Survival prediction of 76.076%)"
   ]
  }
 ],
 "metadata": {
  "kernelspec": {
   "display_name": "Python 3",
   "language": "python",
   "name": "python3"
  },
  "language_info": {
   "codemirror_mode": {
    "name": "ipython",
    "version": 3
   },
   "file_extension": ".py",
   "mimetype": "text/x-python",
   "name": "python",
   "nbconvert_exporter": "python",
   "pygments_lexer": "ipython3",
   "version": "3.7.3"
  }
 },
 "nbformat": 4,
 "nbformat_minor": 2
}
